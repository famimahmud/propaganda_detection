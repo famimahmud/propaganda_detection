{
 "cells": [
  {
   "cell_type": "markdown",
   "metadata": {
    "id": "7y14MBnvVLci"
   },
   "source": [
    "# Persuasion Techniques in Text of Memes"
   ]
  },
  {
   "cell_type": "markdown",
   "metadata": {
    "id": "6T_0y77SYFxh"
   },
   "source": [
    "## Enironment Setup"
   ]
  },
  {
   "cell_type": "markdown",
   "metadata": {
    "id": "sV1UUQNbZDGF"
   },
   "source": [
    "##### Disk Setup"
   ]
  },
  {
   "cell_type": "code",
   "execution_count": 1,
   "metadata": {
    "colab": {
     "base_uri": "https://localhost:8080/"
    },
    "executionInfo": {
     "elapsed": 2144,
     "status": "ok",
     "timestamp": 1703270459583,
     "user": {
      "displayName": "Fami",
      "userId": "02165163159973573063"
     },
     "user_tz": -60
    },
    "id": "ZLPh7rC4U0xv",
    "outputId": "87140989-1d7d-45b7-c3ac-e682ed1a26cf"
   },
   "outputs": [],
   "source": [
    "#from google.colab import drive\n",
    "#drive.mount('/content/drive')"
   ]
  },
  {
   "cell_type": "code",
   "execution_count": 2,
   "metadata": {
    "colab": {
     "base_uri": "https://localhost:8080/",
     "height": 35
    },
    "executionInfo": {
     "elapsed": 2895,
     "status": "ok",
     "timestamp": 1703270462477,
     "user": {
      "displayName": "Fami",
      "userId": "02165163159973573063"
     },
     "user_tz": -60
    },
    "id": "FJfuxReEdpWp",
    "outputId": "1d7d412c-76cf-45b2-f1aa-f919347ca0d7"
   },
   "outputs": [],
   "source": [
    "# For emptying trash after run\n",
    "#from google.colab import auth\n",
    "#auth.authenticate_user()\n",
    "#from googleapiclient.discovery import build\n",
    "#drive_service = build('drive', 'v3')\n",
    "#drive_service.files().emptyTrash().execute()"
   ]
  },
  {
   "cell_type": "code",
   "execution_count": 3,
   "metadata": {
    "executionInfo": {
     "elapsed": 3,
     "status": "ok",
     "timestamp": 1703270462477,
     "user": {
      "displayName": "Fami",
      "userId": "02165163159973573063"
     },
     "user_tz": -60
    },
    "id": "hon4OZyGWjec"
   },
   "outputs": [],
   "source": [
    "folder_name = \"/home/nlp-lab-ws23/nlp_praktikum/persuasion_technique_detection/\"\n",
    "#folder_name = \"/content/drive/MyDrive/persuasion_technique_detection/\""
   ]
  },
  {
   "cell_type": "markdown",
   "metadata": {
    "id": "jmW8s6NSZKDa"
   },
   "source": [
    "##### Imports"
   ]
  },
  {
   "cell_type": "code",
   "execution_count": 4,
   "metadata": {
    "executionInfo": {
     "elapsed": 9063,
     "status": "ok",
     "timestamp": 1703270471538,
     "user": {
      "displayName": "Fami",
      "userId": "02165163159973573063"
     },
     "user_tz": -60
    },
    "id": "YG3tK5uCYXc7"
   },
   "outputs": [],
   "source": [
    "#!pip install transformers datasets wandb evaluate accelerate -qU sklearn_hierarchical_classification sentencepiece"
   ]
  },
  {
   "cell_type": "code",
   "execution_count": 5,
   "metadata": {
    "executionInfo": {
     "elapsed": 4,
     "status": "ok",
     "timestamp": 1703270471538,
     "user": {
      "displayName": "Fami",
      "userId": "02165163159973573063"
     },
     "user_tz": -60
    },
    "id": "34hMjupVXtvf"
   },
   "outputs": [],
   "source": [
    "import gc\n",
    "import re\n",
    "import json\n",
    "import numpy as np\n",
    "import pandas as pd\n",
    "import random\n",
    "import torch\n",
    "import subprocess\n",
    "import json\n",
    "import warnings\n",
    "import shutil\n",
    "import os"
   ]
  },
  {
   "cell_type": "code",
   "execution_count": 6,
   "metadata": {
    "executionInfo": {
     "elapsed": 4,
     "status": "ok",
     "timestamp": 1703270471538,
     "user": {
      "displayName": "Fami",
      "userId": "02165163159973573063"
     },
     "user_tz": -60
    },
    "id": "QUb9QBJ1Z8D0"
   },
   "outputs": [],
   "source": [
    "from sklearn import preprocessing\n",
    "from sklearn.preprocessing import MultiLabelBinarizer,LabelEncoder\n",
    "from sklearn.model_selection import train_test_split\n",
    "from sklearn.metrics import f1_score, roc_auc_score, accuracy_score\n",
    "from transformers import EvalPrediction\n",
    "from datasets import Dataset,load_dataset,DatasetDict,concatenate_datasets\n",
    "import datasets\n",
    "from transformers import TrainingArguments\n",
    "from transformers import AutoModelForSequenceClassification\n",
    "from datasets import concatenate_datasets\n",
    "from transformers import Trainer\n",
    "from transformers import AutoTokenizer, DataCollatorWithPadding"
   ]
  },
  {
   "cell_type": "code",
   "execution_count": 7,
   "metadata": {
    "colab": {
     "base_uri": "https://localhost:8080/"
    },
    "executionInfo": {
     "elapsed": 4,
     "status": "ok",
     "timestamp": 1703270471538,
     "user": {
      "displayName": "Fami",
      "userId": "02165163159973573063"
     },
     "user_tz": -60
    },
    "id": "C71bLsbaaN_T",
    "outputId": "d843752b-70ac-440e-a85d-6324c47b437e"
   },
   "outputs": [
    {
     "name": "stdout",
     "output_type": "stream",
     "text": [
      "There are 1 GPU(s) available.\n",
      "Device name: NVIDIA GeForce RTX 3080 Ti\n"
     ]
    }
   ],
   "source": [
    "AVAIL_GPUS = 0\n",
    "if torch.cuda.is_available():\n",
    "    device = torch.device(\"cuda\")\n",
    "    AVAIL_GPUS = torch.cuda.device_count()\n",
    "    print(f'There are {AVAIL_GPUS} GPU(s) available.')\n",
    "    print('Device name:', torch.cuda.get_device_name(0))\n",
    "\n",
    "else:\n",
    "    print('No GPU available, using the CPU instead.')\n",
    "    device = torch.device(\"cpu\")"
   ]
  },
  {
   "cell_type": "code",
   "execution_count": 8,
   "metadata": {
    "colab": {
     "base_uri": "https://localhost:8080/"
    },
    "executionInfo": {
     "elapsed": 599,
     "status": "ok",
     "timestamp": 1703270472134,
     "user": {
      "displayName": "Fami",
      "userId": "02165163159973573063"
     },
     "user_tz": -60
    },
    "id": "xRLo3GBzmNWP",
    "outputId": "c9854a0f-23ae-4311-f6c1-3928c516d172"
   },
   "outputs": [
    {
     "name": "stdout",
     "output_type": "stream",
     "text": [
      "Wed Jan 10 14:41:49 2024       \n",
      "+---------------------------------------------------------------------------------------+\n",
      "| NVIDIA-SMI 535.54.03              Driver Version: 535.54.03    CUDA Version: 12.2     |\n",
      "|-----------------------------------------+----------------------+----------------------+\n",
      "| GPU  Name                 Persistence-M | Bus-Id        Disp.A | Volatile Uncorr. ECC |\n",
      "| Fan  Temp   Perf          Pwr:Usage/Cap |         Memory-Usage | GPU-Util  Compute M. |\n",
      "|                                         |                      |               MIG M. |\n",
      "|=========================================+======================+======================|\n",
      "|   0  NVIDIA GeForce RTX 3080 Ti     On  | 00000000:2B:00.0 Off |                  N/A |\n",
      "|  0%   35C    P8              26W / 350W |      5MiB / 12288MiB |      0%      Default |\n",
      "|                                         |                      |                  N/A |\n",
      "+-----------------------------------------+----------------------+----------------------+\n",
      "                                                                                         \n",
      "+---------------------------------------------------------------------------------------+\n",
      "| Processes:                                                                            |\n",
      "|  GPU   GI   CI        PID   Type   Process name                            GPU Memory |\n",
      "|        ID   ID                                                             Usage      |\n",
      "|=======================================================================================|\n",
      "|  No running processes found                                                           |\n",
      "+---------------------------------------------------------------------------------------+\n"
     ]
    }
   ],
   "source": [
    "!nvidia-smi"
   ]
  },
  {
   "cell_type": "markdown",
   "metadata": {
    "id": "e9WRURUOwIyS"
   },
   "source": [
    "## Login to WandB"
   ]
  },
  {
   "cell_type": "code",
   "execution_count": 9,
   "metadata": {
    "executionInfo": {
     "elapsed": 3,
     "status": "ok",
     "timestamp": 1703270472134,
     "user": {
      "displayName": "Fami",
      "userId": "02165163159973573063"
     },
     "user_tz": -60
    },
    "id": "sV9Xdol6aLRq"
   },
   "outputs": [
    {
     "name": "stderr",
     "output_type": "stream",
     "text": [
      "\u001b[34m\u001b[1mwandb\u001b[0m: Currently logged in as: \u001b[33mmahmudfami\u001b[0m (\u001b[33mtumnlp\u001b[0m). Use \u001b[1m`wandb login --relogin`\u001b[0m to force relogin\n"
     ]
    }
   ],
   "source": [
    "import wandb\n",
    "import os\n",
    "\n",
    "#wandb.login(relogin=True)\n",
    "wandb.login()\n",
    "\n",
    "# setup wandb environment variables\n",
    "os.environ['WANDB_PROJECT'] = \"subtask1_multilabel_transformer_encoder_classification\"\n",
    "os.environ['WANDB_ENTITY'] = \"tumnlp\"\n",
    "os.environ[\"WANDB_LOG_MODEL\"]= \"end\""
   ]
  },
  {
   "cell_type": "markdown",
   "metadata": {
    "id": "I5ptOdklcyQE"
   },
   "source": [
    "## Pre-trained Transformer Name"
   ]
  },
  {
   "cell_type": "code",
   "execution_count": 10,
   "metadata": {
    "executionInfo": {
     "elapsed": 3,
     "status": "ok",
     "timestamp": 1703270472134,
     "user": {
      "displayName": "Fami",
      "userId": "02165163159973573063"
     },
     "user_tz": -60
    },
    "id": "N6r0SluLcdKz"
   },
   "outputs": [],
   "source": [
    "#checkpoint = \"bert-base-cased\"\n",
    "#checkpoint= \"vinai/bertweet-base\"\n",
    "#checkpoint = \"xlm-roberta-base\"\n",
    "#checkpoint = \"xlnet-base-cased\"\n",
    "#checkpoint = \"albert-base-v2\"\n",
    "#checkpoint = \"distilroberta-base\"\n",
    "#checkpoint = \"microsoft/deberta-v3-base\"\n",
    "#checkpoint = \"jayanta/twitter-roberta-base-sentiment-sentiment-memes\"\n",
    "#checkpoint = \"vinai/bertweet-large\"\n",
    "checkpoint = \"microsoft/deberta-v3-large\"\n"
   ]
  },
  {
   "cell_type": "code",
   "execution_count": 11,
   "metadata": {
    "executionInfo": {
     "elapsed": 2,
     "status": "ok",
     "timestamp": 1703270472134,
     "user": {
      "displayName": "Fami",
      "userId": "02165163159973573063"
     },
     "user_tz": -60
    },
    "id": "NqZzgInb1HNm"
   },
   "outputs": [],
   "source": [
    "summary_dir_path = folder_name + \"subtask1/transformer/summaries/multilabel/summary_test_multilabel_\" + checkpoint.replace(\"/\",\"_\") + \"/\""
   ]
  },
  {
   "cell_type": "markdown",
   "metadata": {
    "id": "oii8V3FvjSDx"
   },
   "source": [
    "## Data Preprocessing"
   ]
  },
  {
   "cell_type": "code",
   "execution_count": 12,
   "metadata": {
    "executionInfo": {
     "elapsed": 2,
     "status": "ok",
     "timestamp": 1703270472134,
     "user": {
      "displayName": "Fami",
      "userId": "02165163159973573063"
     },
     "user_tz": -60
    },
    "id": "zi-dWi0ZZxiV"
   },
   "outputs": [],
   "source": [
    "# Initialize a counter for empty label samples\n",
    "empty_label_counter = [0]\n",
    "\n",
    "def filter_every_second_empty_label(sample):\n",
    "    if len(sample['labels']) == 0:\n",
    "        empty_label_counter[0] += 1\n",
    "\n",
    "        return empty_label_counter[0] % 2 != 0\n",
    "    return True"
   ]
  },
  {
   "cell_type": "code",
   "execution_count": 13,
   "metadata": {
    "executionInfo": {
     "elapsed": 1325,
     "status": "ok",
     "timestamp": 1703270473457,
     "user": {
      "displayName": "Fami",
      "userId": "02165163159973573063"
     },
     "user_tz": -60
    },
    "id": "cJLbXhdKH4nU"
   },
   "outputs": [],
   "source": [
    "val_path=folder_name+\"data/subtask1/validation.json\"\n",
    "train_path = folder_name+\"data/subtask1/train.json\"\n",
    "test_path=folder_name+\"data/subtask1/dev_unlabeled.json\"\n",
    "train_added_ptc = folder_name+\"data/ptc/ptc_added_train.json\"\n",
    "train_val_dev_path = folder_name+\"data/subtask1/train_val_dev.json\"\n",
    "\n",
    "#dataset_memes_2024_files = {\"train\": train_added_ptc,\"validation\": val_path}\n",
    "dataset_memes_2024_files = {\"train\": train_path,\"validation\": val_path}\n",
    "val_files={\"val\":val_path}\n",
    "test_files={\"test\":test_path}\n",
    "train_val_dev_files ={\"train\": train_val_dev_path, \"validation\": val_path}\n",
    "\n",
    "dataset_memes_2024 = load_dataset(\"json\",data_files=dataset_memes_2024_files)\n",
    "dataset_memes_2024 = load_dataset(\"json\",data_files=train_val_dev_files)\n",
    "\n",
    "empty_labels = 1\n",
    "if empty_labels == 0:\n",
    "  dataset_memes_2024 = dataset_memes_2024.filter(lambda x : len(x['labels']) != 0)\n",
    "if empty_labels == 0.5:\n",
    "  dataset_memes_2024 = dataset_memes_2024.filter(filter_every_second_empty_label)\n",
    "\n",
    "dataset_test=load_dataset(\"json\",data_files=test_files)\n",
    "dataset_val=load_dataset(\"json\",data_files=val_files)"
   ]
  },
  {
   "cell_type": "code",
   "execution_count": 14,
   "metadata": {
    "colab": {
     "base_uri": "https://localhost:8080/"
    },
    "executionInfo": {
     "elapsed": 8,
     "status": "ok",
     "timestamp": 1703270473457,
     "user": {
      "displayName": "Fami",
      "userId": "02165163159973573063"
     },
     "user_tz": -60
    },
    "id": "mrJDHV8NpO00",
    "outputId": "190d4e9a-c3ae-4f87-dfe6-891b73bf8102"
   },
   "outputs": [
    {
     "data": {
      "text/plain": [
       "DatasetDict({\n",
       "    test: Dataset({\n",
       "        features: ['text', 'id'],\n",
       "        num_rows: 1000\n",
       "    })\n",
       "})"
      ]
     },
     "execution_count": 14,
     "metadata": {},
     "output_type": "execute_result"
    }
   ],
   "source": [
    "dataset_test"
   ]
  },
  {
   "cell_type": "code",
   "execution_count": 15,
   "metadata": {
    "colab": {
     "base_uri": "https://localhost:8080/"
    },
    "executionInfo": {
     "elapsed": 7,
     "status": "ok",
     "timestamp": 1703270473457,
     "user": {
      "displayName": "Fami",
      "userId": "02165163159973573063"
     },
     "user_tz": -60
    },
    "id": "vsMpFjIXmlT4",
    "outputId": "0e5a097e-a404-4b31-c0fa-1e623e1d5645"
   },
   "outputs": [
    {
     "data": {
      "text/plain": [
       "DatasetDict({\n",
       "    train: Dataset({\n",
       "        features: ['labels', 'text', 'link', 'id'],\n",
       "        num_rows: 7000\n",
       "    })\n",
       "    validation: Dataset({\n",
       "        features: ['labels', 'text', 'link', 'id'],\n",
       "        num_rows: 500\n",
       "    })\n",
       "})"
      ]
     },
     "execution_count": 15,
     "metadata": {},
     "output_type": "execute_result"
    }
   ],
   "source": [
    "dataset_memes_2024"
   ]
  },
  {
   "cell_type": "code",
   "execution_count": 16,
   "metadata": {
    "colab": {
     "base_uri": "https://localhost:8080/"
    },
    "executionInfo": {
     "elapsed": 6,
     "status": "ok",
     "timestamp": 1703270473457,
     "user": {
      "displayName": "Fami",
      "userId": "02165163159973573063"
     },
     "user_tz": -60
    },
    "id": "KfUF-z8Xe5M0",
    "outputId": "e3b8895b-6a51-4692-c344-e888557bc4a5"
   },
   "outputs": [
    {
     "data": {
      "text/plain": [
       "{'labels': [],\n",
       " 'text': \"PUTIN'S SECRET CAMOUFLAGE ARMY\",\n",
       " 'link': 'https://www.facebook.com/photo/?fbid=1261268274677920&set=g.655806642139792',\n",
       " 'id': '66402'}"
      ]
     },
     "execution_count": 16,
     "metadata": {},
     "output_type": "execute_result"
    }
   ],
   "source": [
    "dataset_memes_2024[\"train\"][5]"
   ]
  },
  {
   "cell_type": "code",
   "execution_count": 17,
   "metadata": {
    "colab": {
     "base_uri": "https://localhost:8080/"
    },
    "executionInfo": {
     "elapsed": 5,
     "status": "ok",
     "timestamp": 1703270473457,
     "user": {
      "displayName": "Fami",
      "userId": "02165163159973573063"
     },
     "user_tz": -60
    },
    "id": "-_a0vBdtacfE",
    "outputId": "9dd1128f-4f88-4391-aed6-73b18da376cb"
   },
   "outputs": [
    {
     "data": {
      "text/plain": [
       "20"
      ]
     },
     "execution_count": 17,
     "metadata": {},
     "output_type": "execute_result"
    }
   ],
   "source": [
    "techniques = [['Black-and-white Fallacy/Dictatorship', 'Loaded Language',\n",
    "       'Glittering generalities (Virtue)', 'Thought-terminating cliché',\n",
    "       'Whataboutism', 'Slogans', 'Causal Oversimplification', 'Smears',\n",
    "       'Name calling/Labeling', 'Appeal to authority',\n",
    "       'Exaggeration/Minimisation', 'Repetition', 'Flag-waving',\n",
    "       'Appeal to fear/prejudice', 'Reductio ad hitlerum', 'Doubt',\n",
    "       \"Misrepresentation of Someone's Position (Straw Man)\",\n",
    "       'Obfuscation, Intentional vagueness, Confusion', 'Bandwagon',\n",
    "       'Presenting Irrelevant Data (Red Herring)']]\n",
    "num_labels = len(techniques[0])\n",
    "num_labels"
   ]
  },
  {
   "cell_type": "markdown",
   "metadata": {
    "id": "lmg1FJOHcpxs"
   },
   "source": [
    "### Preprocess Multi-Labels"
   ]
  },
  {
   "cell_type": "code",
   "execution_count": 18,
   "metadata": {
    "colab": {
     "base_uri": "https://localhost:8080/",
     "height": 74
    },
    "executionInfo": {
     "elapsed": 4,
     "status": "ok",
     "timestamp": 1703270473457,
     "user": {
      "displayName": "Fami",
      "userId": "02165163159973573063"
     },
     "user_tz": -60
    },
    "id": "4OzCS8Unctn-",
    "outputId": "d450f008-034a-452c-9330-e6c5c3392a89"
   },
   "outputs": [
    {
     "data": {
      "text/html": [
       "<style>#sk-container-id-1 {color: black;background-color: white;}#sk-container-id-1 pre{padding: 0;}#sk-container-id-1 div.sk-toggleable {background-color: white;}#sk-container-id-1 label.sk-toggleable__label {cursor: pointer;display: block;width: 100%;margin-bottom: 0;padding: 0.3em;box-sizing: border-box;text-align: center;}#sk-container-id-1 label.sk-toggleable__label-arrow:before {content: \"▸\";float: left;margin-right: 0.25em;color: #696969;}#sk-container-id-1 label.sk-toggleable__label-arrow:hover:before {color: black;}#sk-container-id-1 div.sk-estimator:hover label.sk-toggleable__label-arrow:before {color: black;}#sk-container-id-1 div.sk-toggleable__content {max-height: 0;max-width: 0;overflow: hidden;text-align: left;background-color: #f0f8ff;}#sk-container-id-1 div.sk-toggleable__content pre {margin: 0.2em;color: black;border-radius: 0.25em;background-color: #f0f8ff;}#sk-container-id-1 input.sk-toggleable__control:checked~div.sk-toggleable__content {max-height: 200px;max-width: 100%;overflow: auto;}#sk-container-id-1 input.sk-toggleable__control:checked~label.sk-toggleable__label-arrow:before {content: \"▾\";}#sk-container-id-1 div.sk-estimator input.sk-toggleable__control:checked~label.sk-toggleable__label {background-color: #d4ebff;}#sk-container-id-1 div.sk-label input.sk-toggleable__control:checked~label.sk-toggleable__label {background-color: #d4ebff;}#sk-container-id-1 input.sk-hidden--visually {border: 0;clip: rect(1px 1px 1px 1px);clip: rect(1px, 1px, 1px, 1px);height: 1px;margin: -1px;overflow: hidden;padding: 0;position: absolute;width: 1px;}#sk-container-id-1 div.sk-estimator {font-family: monospace;background-color: #f0f8ff;border: 1px dotted black;border-radius: 0.25em;box-sizing: border-box;margin-bottom: 0.5em;}#sk-container-id-1 div.sk-estimator:hover {background-color: #d4ebff;}#sk-container-id-1 div.sk-parallel-item::after {content: \"\";width: 100%;border-bottom: 1px solid gray;flex-grow: 1;}#sk-container-id-1 div.sk-label:hover label.sk-toggleable__label {background-color: #d4ebff;}#sk-container-id-1 div.sk-serial::before {content: \"\";position: absolute;border-left: 1px solid gray;box-sizing: border-box;top: 0;bottom: 0;left: 50%;z-index: 0;}#sk-container-id-1 div.sk-serial {display: flex;flex-direction: column;align-items: center;background-color: white;padding-right: 0.2em;padding-left: 0.2em;position: relative;}#sk-container-id-1 div.sk-item {position: relative;z-index: 1;}#sk-container-id-1 div.sk-parallel {display: flex;align-items: stretch;justify-content: center;background-color: white;position: relative;}#sk-container-id-1 div.sk-item::before, #sk-container-id-1 div.sk-parallel-item::before {content: \"\";position: absolute;border-left: 1px solid gray;box-sizing: border-box;top: 0;bottom: 0;left: 50%;z-index: -1;}#sk-container-id-1 div.sk-parallel-item {display: flex;flex-direction: column;z-index: 1;position: relative;background-color: white;}#sk-container-id-1 div.sk-parallel-item:first-child::after {align-self: flex-end;width: 50%;}#sk-container-id-1 div.sk-parallel-item:last-child::after {align-self: flex-start;width: 50%;}#sk-container-id-1 div.sk-parallel-item:only-child::after {width: 0;}#sk-container-id-1 div.sk-dashed-wrapped {border: 1px dashed gray;margin: 0 0.4em 0.5em 0.4em;box-sizing: border-box;padding-bottom: 0.4em;background-color: white;}#sk-container-id-1 div.sk-label label {font-family: monospace;font-weight: bold;display: inline-block;line-height: 1.2em;}#sk-container-id-1 div.sk-label-container {text-align: center;}#sk-container-id-1 div.sk-container {/* jupyter's `normalize.less` sets `[hidden] { display: none; }` but bootstrap.min.css set `[hidden] { display: none !important; }` so we also need the `!important` here to be able to override the default hidden behavior on the sphinx rendered scikit-learn.org. See: https://github.com/scikit-learn/scikit-learn/issues/21755 */display: inline-block !important;position: relative;}#sk-container-id-1 div.sk-text-repr-fallback {display: none;}</style><div id=\"sk-container-id-1\" class=\"sk-top-container\"><div class=\"sk-text-repr-fallback\"><pre>MultiLabelBinarizer()</pre><b>In a Jupyter environment, please rerun this cell to show the HTML representation or trust the notebook. <br />On GitHub, the HTML representation is unable to render, please try loading this page with nbviewer.org.</b></div><div class=\"sk-container\" hidden><div class=\"sk-item\"><div class=\"sk-estimator sk-toggleable\"><input class=\"sk-toggleable__control sk-hidden--visually\" id=\"sk-estimator-id-1\" type=\"checkbox\" checked><label for=\"sk-estimator-id-1\" class=\"sk-toggleable__label sk-toggleable__label-arrow\">MultiLabelBinarizer</label><div class=\"sk-toggleable__content\"><pre>MultiLabelBinarizer()</pre></div></div></div></div></div>"
      ],
      "text/plain": [
       "MultiLabelBinarizer()"
      ]
     },
     "execution_count": 18,
     "metadata": {},
     "output_type": "execute_result"
    }
   ],
   "source": [
    "mlb = MultiLabelBinarizer()\n",
    "mlb.fit(techniques)\n"
   ]
  },
  {
   "cell_type": "markdown",
   "metadata": {
    "id": "HgAQXgvkKjW_"
   },
   "source": [
    "#### Tokenize"
   ]
  },
  {
   "cell_type": "code",
   "execution_count": 19,
   "metadata": {
    "colab": {
     "base_uri": "https://localhost:8080/",
     "height": 405
    },
    "executionInfo": {
     "elapsed": 3522,
     "status": "ok",
     "timestamp": 1703270476976,
     "user": {
      "displayName": "Fami",
      "userId": "02165163159973573063"
     },
     "user_tz": -60
    },
    "id": "pc5lQuWUJ83q",
    "outputId": "6e55a71f-dbcc-4299-dd11-8cdbdd848df6"
   },
   "outputs": [
    {
     "name": "stderr",
     "output_type": "stream",
     "text": [
      "/home/nlp-lab-ws23/nlp_praktikum/nlp_praktikum_env/lib/python3.10/site-packages/transformers/convert_slow_tokenizer.py:473: UserWarning: The sentencepiece tokenizer that you are converting to a fast tokenizer uses the byte fallback option which is not implemented in the fast tokenizers. In practice this means that the fast version of the tokenizer can produce unknown tokens whereas the sentencepiece version would have converted these unknown tokens into a sequence of byte tokens matching the original piece of text.\n",
      "  warnings.warn(\n"
     ]
    },
    {
     "data": {
      "text/plain": [
       "DatasetDict({\n",
       "    train: Dataset({\n",
       "        features: ['labels', 'text', 'link', 'id', 'input_ids', 'token_type_ids', 'attention_mask'],\n",
       "        num_rows: 7000\n",
       "    })\n",
       "    validation: Dataset({\n",
       "        features: ['labels', 'text', 'link', 'id', 'input_ids', 'token_type_ids', 'attention_mask'],\n",
       "        num_rows: 500\n",
       "    })\n",
       "})"
      ]
     },
     "execution_count": 19,
     "metadata": {},
     "output_type": "execute_result"
    }
   ],
   "source": [
    "tokenizer = AutoTokenizer.from_pretrained(checkpoint)\n",
    "data_collator = DataCollatorWithPadding(tokenizer=tokenizer)\n",
    "def tokenize_function(examples, binarizer):\n",
    "    encoding = tokenizer(examples[\"text\"], truncation=True, max_length=512)\n",
    "    encoding['labels'] = binarizer.transform(examples['labels']).astype(np.float32).tolist()\n",
    "    return encoding\n",
    "\n",
    "tokenized_datasets = dataset_memes_2024.map(tokenize_function, fn_kwargs={\"binarizer\":mlb}, batched=True)\n",
    "tokenized_datasets"
   ]
  },
  {
   "cell_type": "code",
   "execution_count": 20,
   "metadata": {
    "colab": {
     "base_uri": "https://localhost:8080/"
    },
    "executionInfo": {
     "elapsed": 3,
     "status": "ok",
     "timestamp": 1703270476976,
     "user": {
      "displayName": "Fami",
      "userId": "02165163159973573063"
     },
     "user_tz": -60
    },
    "id": "rny9ZJhYeM00",
    "outputId": "9961836e-abbf-418b-efaa-5eb98921ceac"
   },
   "outputs": [
    {
     "name": "stderr",
     "output_type": "stream",
     "text": [
      "You're using a DebertaV2TokenizerFast tokenizer. Please note that with a fast tokenizer, using the `__call__` method is faster than using a method to encode the text followed by a call to the `pad` method to get a padded encoding.\n"
     ]
    },
    {
     "data": {
      "text/plain": [
       "{'labels': torch.Size([8, 20]),\n",
       " 'input_ids': torch.Size([8, 56]),\n",
       " 'token_type_ids': torch.Size([8, 56]),\n",
       " 'attention_mask': torch.Size([8, 56])}"
      ]
     },
     "execution_count": 20,
     "metadata": {},
     "output_type": "execute_result"
    }
   ],
   "source": [
    "samples = tokenized_datasets[\"train\"][:8]\n",
    "samples = {k: v for k, v in samples.items() if k not in [\"id\", \"text\", \"link\"]}\n",
    "batch = data_collator(samples)\n",
    "{k: v.shape for k, v in batch.items()}"
   ]
  },
  {
   "cell_type": "markdown",
   "metadata": {
    "id": "izyqvy-5RjPs"
   },
   "source": [
    "## Training"
   ]
  },
  {
   "cell_type": "code",
   "execution_count": 21,
   "metadata": {
    "executionInfo": {
     "elapsed": 2,
     "status": "ok",
     "timestamp": 1703270476976,
     "user": {
      "displayName": "Fami",
      "userId": "02165163159973573063"
     },
     "user_tz": -60
    },
    "id": "Ubp6MPU6Mew9"
   },
   "outputs": [],
   "source": [
    "def save_json(data, file_path):\n",
    "    with open(file_path, 'w+') as f:\n",
    "        json.dump(data, f)\n",
    "\n",
    "def create_json_output(y_pred, y_true,binarizer):\n",
    "\n",
    "    # Transfrom numeric labels into textual labels\n",
    "    y_pred = binarizer.inverse_transform(y_pred)\n",
    "    y_true = binarizer.inverse_transform(y_true)\n",
    "\n",
    "    # Convert y_true and y_pred to the required JSON format\n",
    "    pred_json = [{\"id\": str(idx), \"labels\": pred_row} for idx, pred_row in enumerate(y_pred)]\n",
    "    true_json = [{\"id\": str(idx), \"labels\": true_row} for idx, true_row in enumerate(y_true)]\n",
    "\n",
    "    # Save to json files\n",
    "    predictions_file = folder_name + f\"subtask1/output_multilabel/tmp/predictions.json\"\n",
    "    gold_labels_file= folder_name + f\"subtask1/output_multilabel/tmp/gold_labels.json\"\n",
    "    save_json(pred_json, predictions_file)\n",
    "    save_json(true_json, gold_labels_file)\n",
    "    return predictions_file, gold_labels_file"
   ]
  },
  {
   "cell_type": "code",
   "execution_count": 22,
   "metadata": {
    "executionInfo": {
     "elapsed": 2,
     "status": "ok",
     "timestamp": 1703270476976,
     "user": {
      "displayName": "Fami",
      "userId": "02165163159973573063"
     },
     "user_tz": -60
    },
    "id": "4o53t_w_baxe"
   },
   "outputs": [],
   "source": [
    "def calculate_hierarchical_metrics(predictions_file, gold_labels_file):\n",
    "    # Run the scoring script\n",
    "    scorer = folder_name + \"subtask1/subtask_1_2a.py\"\n",
    "    command = f'python3 {scorer} --gold_file_path {gold_labels_file} --pred_file_path {predictions_file}'\n",
    "    try:\n",
    "      result = subprocess.run(command, shell=True, check=True , stdout=subprocess.PIPE, text=True)\n",
    "\n",
    "    except subprocess.CalledProcessError as e:\n",
    "      output = e.output\n",
    "      print(\"error:\",e)\n",
    "    res=result.stdout\n",
    "    output = res.strip()\n",
    "\n",
    "    # Parse the output\n",
    "    parts = output.split('\\t')\n",
    "    f1_h = float(parts[0].split('=')[1])\n",
    "    prec_h = float(parts[1].split('=')[1])\n",
    "    rec_h = float(parts[2].split('=')[1])\n",
    "\n",
    "    return f1_h, prec_h, rec_h"
   ]
  },
  {
   "cell_type": "code",
   "execution_count": 23,
   "metadata": {
    "executionInfo": {
     "elapsed": 2,
     "status": "ok",
     "timestamp": 1703270476976,
     "user": {
      "displayName": "Fami",
      "userId": "02165163159973573063"
     },
     "user_tz": -60
    },
    "id": "KXEoj4KZ_m3i"
   },
   "outputs": [],
   "source": [
    "# source: https://jesusleal.io/2021/04/21/Longformer-multilabel-classification/\n",
    "def multi_label_metrics(predictions, labels, binarizer,threshold=0.5):\n",
    "    y_true = labels\n",
    "    sigmoid = torch.nn.Sigmoid()\n",
    "    probs = sigmoid(torch.Tensor(predictions))\n",
    "    # next, use threshold to turn them into integer predictions\n",
    "    y_pred = np.zeros(predictions.shape)\n",
    "    y_pred[np.where(probs >= threshold)] = 1\n",
    "\n",
    "    # compute metrics\n",
    "    f1= f1_score(y_true=y_true, y_pred=y_pred, average='micro')\n",
    "\n",
    "    # Create Json Output file\n",
    "    predictions_file, gold_labels_file = create_json_output(y_pred, y_true,binarizer)\n",
    "    accuracy = accuracy_score(y_true, y_pred)\n",
    "    f1_h, prec_h, rec_h = calculate_hierarchical_metrics(predictions_file, gold_labels_file)\n",
    "\n",
    "    # return as dictionary\n",
    "    metrics = {'f1_hierarchical': f1_h,\n",
    "               'precision_hierarchical': prec_h,\n",
    "               'recall_hierarchical': rec_h,\n",
    "               'f1': f1,\n",
    "               'accuracy': accuracy,\n",
    "               }\n",
    "    # empty trash of drive\n",
    "    #drive_service.files().emptyTrash().execute()\n",
    "    return metrics\n",
    "\n",
    "def prepare_compute_metrics(mlb,threshold):\n",
    "  def compute_metrics(p: EvalPrediction):\n",
    "    nonlocal mlb\n",
    "    nonlocal threshold\n",
    "    preds = p.predictions[0] if isinstance(p.predictions,tuple) else p.predictions\n",
    "    labels=p.label_ids\n",
    "    result = multi_label_metrics(\n",
    "        predictions=preds,\n",
    "        labels=labels,binarizer=mlb,threshold=threshold)\n",
    "    return result\n",
    "  return compute_metrics"
   ]
  },
  {
   "cell_type": "code",
   "execution_count": 24,
   "metadata": {
    "executionInfo": {
     "elapsed": 2,
     "status": "ok",
     "timestamp": 1703270476976,
     "user": {
      "displayName": "Fami",
      "userId": "02165163159973573063"
     },
     "user_tz": -60
    },
    "id": "EkalWa7KG3Nt"
   },
   "outputs": [],
   "source": [
    "def train():\n",
    "    try:\n",
    "        # Initialize a new wandb run\n",
    "        wandb.init()\n",
    "\n",
    "        # sweep agent inputs config with hyperparameters\n",
    "        config = wandb.config\n",
    "\n",
    "        # Use config to access the hyperparameters\n",
    "        threshold = config.threshold\n",
    "        learning_rate = config.learning_rate\n",
    "        epochs = 10\n",
    "\n",
    "        run_name = config.run_name+f\"_{str(threshold)}threshold_{str(learning_rate)}learningRate\"\n",
    "        wandb.run.name = run_name\n",
    "\n",
    "        training_args = TrainingArguments(\n",
    "            report_to = 'wandb',                    # enable logging to W&B\n",
    "            run_name = run_name+f\"_{str(threshold)}threshold_{str(learning_rate)}_learningRate\",          # name of the W&B run\n",
    "            load_best_model_at_end = True,\n",
    "            output_dir = output_folder,\n",
    "            overwrite_output_dir = True,\n",
    "            save_strategy = 'steps',\n",
    "            evaluation_strategy = 'steps',\n",
    "            per_device_train_batch_size=batch_size,\n",
    "            per_device_eval_batch_size=batch_size,\n",
    "            learning_rate = learning_rate,\n",
    "            num_train_epochs = epochs,\n",
    "            save_steps = 1 / (epochs*2),\n",
    "            eval_steps = 1 / (epochs*2),\n",
    "            logging_steps = 100,\n",
    "            save_total_limit=1,\n",
    "            metric_for_best_model = 'f1_hierarchical',\n",
    "            #gradient_accumulation_steps=4\n",
    "        )\n",
    "\n",
    "        trainer = Trainer(\n",
    "            model,\n",
    "            training_args,\n",
    "            train_dataset=tokenized_datasets[\"train\"],\n",
    "            eval_dataset=tokenized_datasets[\"validation\"],\n",
    "            data_collator=data_collator,\n",
    "            tokenizer=tokenizer,\n",
    "            compute_metrics=prepare_compute_metrics(mlb,threshold)\n",
    "        )\n",
    "\n",
    "        trainer.train()\n",
    "\n",
    "        wandb.finish()\n",
    "    except Exception as e:\n",
    "        print(f\"Error in training: {str(e)}\")\n",
    "    # empty trash of drive\n",
    "    #drive_service.files().emptyTrash().execute()"
   ]
  },
  {
   "cell_type": "code",
   "execution_count": 25,
   "metadata": {
    "executionInfo": {
     "elapsed": 2,
     "status": "ok",
     "timestamp": 1703270476976,
     "user": {
      "displayName": "Fami",
      "userId": "02165163159973573063"
     },
     "user_tz": -60
    },
    "id": "Jcbk6G93C6a8"
   },
   "outputs": [],
   "source": [
    "# Search for float value before 'threshold'\n",
    "def extract_threshold(string):\n",
    "    match = re.search(r'(\\d+\\.\\d+)threshold', string)\n",
    "    if match:\n",
    "        return float(match.group(1))\n",
    "    else:\n",
    "        return None\n",
    "def extract_learning_rate(string):\n",
    "    match = re.search(r'(\\d+\\.\\d+)learningRate', string)\n",
    "    if match:\n",
    "        return float(match.group(1))\n",
    "    else:\n",
    "        return None"
   ]
  },
  {
   "cell_type": "code",
   "execution_count": null,
   "metadata": {
    "colab": {
     "background_save": true,
     "base_uri": "https://localhost:8080/",
     "height": 1000
    },
    "id": "_UrrZjUjPzK5",
    "scrolled": true
   },
   "outputs": [
    {
     "name": "stderr",
     "output_type": "stream",
     "text": [
      "Some weights of DebertaV2ForSequenceClassification were not initialized from the model checkpoint at microsoft/deberta-v3-large and are newly initialized: ['classifier.weight', 'pooler.dense.weight', 'classifier.bias', 'pooler.dense.bias']\n",
      "You should probably TRAIN this model on a down-stream task to be able to use it for predictions and inference.\n"
     ]
    },
    {
     "name": "stdout",
     "output_type": "stream",
     "text": [
      "Create sweep with ID: w9cb3h9j\n",
      "Sweep URL: https://wandb.ai/tumnlp/subtask1_multilabel_transformer_encoder_classification/sweeps/w9cb3h9j\n"
     ]
    },
    {
     "name": "stderr",
     "output_type": "stream",
     "text": [
      "\u001b[34m\u001b[1mwandb\u001b[0m: Agent Starting Run: jtbgjstk with config:\n",
      "\u001b[34m\u001b[1mwandb\u001b[0m: \tlearning_rate: 5e-05\n",
      "\u001b[34m\u001b[1mwandb\u001b[0m: \trun_name: microsoft_deberta-v3-large-multilabel-memes\n",
      "\u001b[34m\u001b[1mwandb\u001b[0m: \tthreshold: 0.25\n"
     ]
    },
    {
     "data": {
      "text/html": [
       "wandb version 0.16.2 is available!  To upgrade, please run:\n",
       " $ pip install wandb --upgrade"
      ],
      "text/plain": [
       "<IPython.core.display.HTML object>"
      ]
     },
     "metadata": {},
     "output_type": "display_data"
    },
    {
     "data": {
      "text/html": [
       "Tracking run with wandb version 0.16.0"
      ],
      "text/plain": [
       "<IPython.core.display.HTML object>"
      ]
     },
     "metadata": {},
     "output_type": "display_data"
    },
    {
     "data": {
      "text/html": [
       "Run data is saved locally in <code>/home/nlp-lab-ws23/nlp_praktikum/persuasion_technique_detection/subtask1/transformer/training/wandb/run-20240110_144157-jtbgjstk</code>"
      ],
      "text/plain": [
       "<IPython.core.display.HTML object>"
      ]
     },
     "metadata": {},
     "output_type": "display_data"
    },
    {
     "data": {
      "text/html": [
       "Syncing run <strong><a href='https://wandb.ai/tumnlp/subtask1_multilabel_transformer_encoder_classification/runs/jtbgjstk' target=\"_blank\">logical-sweep-1</a></strong> to <a href='https://wandb.ai/tumnlp/subtask1_multilabel_transformer_encoder_classification' target=\"_blank\">Weights & Biases</a> (<a href='https://wandb.me/run' target=\"_blank\">docs</a>)<br/>Sweep page: <a href='https://wandb.ai/tumnlp/subtask1_multilabel_transformer_encoder_classification/sweeps/w9cb3h9j' target=\"_blank\">https://wandb.ai/tumnlp/subtask1_multilabel_transformer_encoder_classification/sweeps/w9cb3h9j</a>"
      ],
      "text/plain": [
       "<IPython.core.display.HTML object>"
      ]
     },
     "metadata": {},
     "output_type": "display_data"
    },
    {
     "data": {
      "text/html": [
       " View project at <a href='https://wandb.ai/tumnlp/subtask1_multilabel_transformer_encoder_classification' target=\"_blank\">https://wandb.ai/tumnlp/subtask1_multilabel_transformer_encoder_classification</a>"
      ],
      "text/plain": [
       "<IPython.core.display.HTML object>"
      ]
     },
     "metadata": {},
     "output_type": "display_data"
    },
    {
     "data": {
      "text/html": [
       " View sweep at <a href='https://wandb.ai/tumnlp/subtask1_multilabel_transformer_encoder_classification/sweeps/w9cb3h9j' target=\"_blank\">https://wandb.ai/tumnlp/subtask1_multilabel_transformer_encoder_classification/sweeps/w9cb3h9j</a>"
      ],
      "text/plain": [
       "<IPython.core.display.HTML object>"
      ]
     },
     "metadata": {},
     "output_type": "display_data"
    },
    {
     "data": {
      "text/html": [
       " View run at <a href='https://wandb.ai/tumnlp/subtask1_multilabel_transformer_encoder_classification/runs/jtbgjstk' target=\"_blank\">https://wandb.ai/tumnlp/subtask1_multilabel_transformer_encoder_classification/runs/jtbgjstk</a>"
      ],
      "text/plain": [
       "<IPython.core.display.HTML object>"
      ]
     },
     "metadata": {},
     "output_type": "display_data"
    },
    {
     "name": "stderr",
     "output_type": "stream",
     "text": [
      "\u001b[34m\u001b[1mwandb\u001b[0m: \u001b[33mWARNING\u001b[0m Config item 'learning_rate' was locked by 'sweep' (ignored update).\n",
      "\u001b[34m\u001b[1mwandb\u001b[0m: \u001b[33mWARNING\u001b[0m Config item 'run_name' was locked by 'sweep' (ignored update).\n"
     ]
    },
    {
     "data": {
      "text/html": [
       "\n",
       "    <div>\n",
       "      \n",
       "      <progress value='7600' max='8750' style='width:300px; height:20px; vertical-align: middle;'></progress>\n",
       "      [7600/8750 48:02 < 07:16, 2.64 it/s, Epoch 8.68/10]\n",
       "    </div>\n",
       "    <table border=\"1\" class=\"dataframe\">\n",
       "  <thead>\n",
       " <tr style=\"text-align: left;\">\n",
       "      <th>Step</th>\n",
       "      <th>Training Loss</th>\n",
       "      <th>Validation Loss</th>\n",
       "      <th>F1 Hierarchical</th>\n",
       "      <th>Precision Hierarchical</th>\n",
       "      <th>Recall Hierarchical</th>\n",
       "      <th>F1</th>\n",
       "      <th>Accuracy</th>\n",
       "    </tr>\n",
       "  </thead>\n",
       "  <tbody>\n",
       "    <tr>\n",
       "      <td>438</td>\n",
       "      <td>0.236300</td>\n",
       "      <td>0.231005</td>\n",
       "      <td>0.517530</td>\n",
       "      <td>0.623550</td>\n",
       "      <td>0.442320</td>\n",
       "      <td>0.390525</td>\n",
       "      <td>0.164000</td>\n",
       "    </tr>\n",
       "    <tr>\n",
       "      <td>876</td>\n",
       "      <td>0.233200</td>\n",
       "      <td>0.252535</td>\n",
       "      <td>0.470240</td>\n",
       "      <td>0.549000</td>\n",
       "      <td>0.411240</td>\n",
       "      <td>0.212099</td>\n",
       "      <td>0.100000</td>\n",
       "    </tr>\n",
       "    <tr>\n",
       "      <td>1314</td>\n",
       "      <td>0.254600</td>\n",
       "      <td>0.250263</td>\n",
       "      <td>0.501590</td>\n",
       "      <td>0.474000</td>\n",
       "      <td>0.532580</td>\n",
       "      <td>0.301251</td>\n",
       "      <td>0.026000</td>\n",
       "    </tr>\n",
       "    <tr>\n",
       "      <td>1752</td>\n",
       "      <td>0.249000</td>\n",
       "      <td>0.250846</td>\n",
       "      <td>0.470240</td>\n",
       "      <td>0.549000</td>\n",
       "      <td>0.411240</td>\n",
       "      <td>0.212099</td>\n",
       "      <td>0.100000</td>\n",
       "    </tr>\n",
       "    <tr>\n",
       "      <td>2190</td>\n",
       "      <td>0.236700</td>\n",
       "      <td>0.250490</td>\n",
       "      <td>0.470240</td>\n",
       "      <td>0.549000</td>\n",
       "      <td>0.411240</td>\n",
       "      <td>0.212099</td>\n",
       "      <td>0.100000</td>\n",
       "    </tr>\n",
       "    <tr>\n",
       "      <td>2628</td>\n",
       "      <td>0.251500</td>\n",
       "      <td>0.250463</td>\n",
       "      <td>0.353000</td>\n",
       "      <td>0.490670</td>\n",
       "      <td>0.275660</td>\n",
       "      <td>0.201643</td>\n",
       "      <td>0.026000</td>\n",
       "    </tr>\n",
       "    <tr>\n",
       "      <td>3066</td>\n",
       "      <td>0.247000</td>\n",
       "      <td>0.249727</td>\n",
       "      <td>0.501590</td>\n",
       "      <td>0.474000</td>\n",
       "      <td>0.532580</td>\n",
       "      <td>0.301251</td>\n",
       "      <td>0.026000</td>\n",
       "    </tr>\n",
       "    <tr>\n",
       "      <td>3504</td>\n",
       "      <td>0.244600</td>\n",
       "      <td>0.249405</td>\n",
       "      <td>0.501590</td>\n",
       "      <td>0.474000</td>\n",
       "      <td>0.532580</td>\n",
       "      <td>0.301251</td>\n",
       "      <td>0.026000</td>\n",
       "    </tr>\n",
       "    <tr>\n",
       "      <td>3942</td>\n",
       "      <td>0.236000</td>\n",
       "      <td>0.250217</td>\n",
       "      <td>0.501590</td>\n",
       "      <td>0.474000</td>\n",
       "      <td>0.532580</td>\n",
       "      <td>0.301251</td>\n",
       "      <td>0.026000</td>\n",
       "    </tr>\n",
       "    <tr>\n",
       "      <td>4380</td>\n",
       "      <td>0.226600</td>\n",
       "      <td>0.255480</td>\n",
       "      <td>0.470240</td>\n",
       "      <td>0.549000</td>\n",
       "      <td>0.411240</td>\n",
       "      <td>0.212099</td>\n",
       "      <td>0.100000</td>\n",
       "    </tr>\n",
       "    <tr>\n",
       "      <td>4818</td>\n",
       "      <td>0.235000</td>\n",
       "      <td>0.256416</td>\n",
       "      <td>0.470240</td>\n",
       "      <td>0.549000</td>\n",
       "      <td>0.411240</td>\n",
       "      <td>0.212099</td>\n",
       "      <td>0.100000</td>\n",
       "    </tr>\n",
       "    <tr>\n",
       "      <td>5256</td>\n",
       "      <td>0.233600</td>\n",
       "      <td>0.261153</td>\n",
       "      <td>0.000000</td>\n",
       "      <td>1.000000</td>\n",
       "      <td>0.000000</td>\n",
       "      <td>0.000000</td>\n",
       "      <td>0.176000</td>\n",
       "    </tr>\n",
       "    <tr>\n",
       "      <td>5694</td>\n",
       "      <td>0.228000</td>\n",
       "      <td>0.259828</td>\n",
       "      <td>0.526730</td>\n",
       "      <td>0.404000</td>\n",
       "      <td>0.756550</td>\n",
       "      <td>0.321240</td>\n",
       "      <td>0.004000</td>\n",
       "    </tr>\n",
       "    <tr>\n",
       "      <td>6132</td>\n",
       "      <td>0.236800</td>\n",
       "      <td>0.256224</td>\n",
       "      <td>0.498540</td>\n",
       "      <td>0.439430</td>\n",
       "      <td>0.576030</td>\n",
       "      <td>0.336041</td>\n",
       "      <td>0.004000</td>\n",
       "    </tr>\n",
       "    <tr>\n",
       "      <td>6570</td>\n",
       "      <td>0.230400</td>\n",
       "      <td>0.252739</td>\n",
       "      <td>0.498540</td>\n",
       "      <td>0.439430</td>\n",
       "      <td>0.576030</td>\n",
       "      <td>0.336041</td>\n",
       "      <td>0.004000</td>\n",
       "    </tr>\n",
       "    <tr>\n",
       "      <td>7008</td>\n",
       "      <td>0.232500</td>\n",
       "      <td>0.262376</td>\n",
       "      <td>0.526730</td>\n",
       "      <td>0.404000</td>\n",
       "      <td>0.756550</td>\n",
       "      <td>0.321240</td>\n",
       "      <td>0.004000</td>\n",
       "    </tr>\n",
       "    <tr>\n",
       "      <td>7446</td>\n",
       "      <td>0.235500</td>\n",
       "      <td>0.256304</td>\n",
       "      <td>0.526730</td>\n",
       "      <td>0.404000</td>\n",
       "      <td>0.756550</td>\n",
       "      <td>0.321240</td>\n",
       "      <td>0.004000</td>\n",
       "    </tr>\n",
       "  </tbody>\n",
       "</table><p>"
      ],
      "text/plain": [
       "<IPython.core.display.HTML object>"
      ]
     },
     "metadata": {},
     "output_type": "display_data"
    }
   ],
   "source": [
    "run_name=f'{checkpoint}-multilabel-memes'.replace(\"/\",\"_\")\n",
    "sweep_name=f'sweep_{run_name}'\n",
    "\n",
    "\n",
    "output_folder = folder_name + f\"subtask1/output_multilabel\"\n",
    "if not os.path.exists(output_folder+\"/tmp\"):\n",
    "  os.makedirs(output_folder+\"/tmp\")\n",
    "\n",
    "batch_size=2\n",
    "\n",
    "# Set hyperparams in sweep configurations\n",
    "sweep_config = {\n",
    "    'method': 'grid',  # can be grid, random, or bayes\n",
    "    'name' : sweep_name,\n",
    "    'metric': {\n",
    "      'name': 'eval/f1_hierarchical',\n",
    "      'goal': 'maximize'\n",
    "    },\n",
    "    'parameters': {\n",
    "        'learning_rate' : {\n",
    "            'values': [5e-5]#[5e-4, 5e-5, 5e-6]\n",
    "        },\n",
    "        'threshold': {\n",
    "            'values': [0.25, 0.3, 0.35, 0.4]#, 0.25, 0.3, 0.35, 0.4]\n",
    "        },\n",
    "        'run_name': {\n",
    "            'value' : run_name\n",
    "        }\n",
    "    }\n",
    "}\n",
    "\n",
    "model = AutoModelForSequenceClassification.from_pretrained(checkpoint, num_labels=len(techniques[0]), problem_type=\"multi_label_classification\", ignore_mismatched_sizes=True)\n",
    "\n",
    "model.cuda()\n",
    "# Start sweeps with specific configuration\n",
    "sweep_id = wandb.sweep(sweep_config, project=\"subtask1_multilabel_transformer_encoder_classification\")\n",
    "wandb.agent(sweep_id, train)\n",
    "\n",
    "# Get best model of sweep\n",
    "api = wandb.Api()\n",
    "sweep = api.sweep(f\"subtask1_multilabel_transformer_encoder_classification/{sweep_id}\")\n",
    "best_run = sweep.best_run()\n",
    "\n",
    "artifacts = best_run.logged_artifacts()\n",
    "\n",
    "model_artifact = None\n",
    "for artifact in artifacts:\n",
    "    if 'model' in artifact.type:  # Adjust the condition based on your setup\n",
    "        model_artifact = artifact\n",
    "        break\n",
    "\n",
    "# best model\n",
    "if model_artifact != None:\n",
    "  best_model = model_artifact.name\n",
    "  print(f\"Best Model: {best_model}\")\n",
    "else:\n",
    "  warnings.warn(f\"No model was found\")\n",
    "\n",
    "# best threshold\n",
    "best_threshold = extract_threshold(best_model)\n",
    "best_learning_rate = extract_learning_rate(best_model)"
   ]
  },
  {
   "cell_type": "markdown",
   "metadata": {
    "id": "-s9_PuHyg5Cf"
   },
   "source": [
    "#### Save Model Config"
   ]
  },
  {
   "cell_type": "code",
   "execution_count": null,
   "metadata": {
    "colab": {
     "background_save": true
    },
    "id": "9C-JeNO3ZwbF"
   },
   "outputs": [],
   "source": [
    "def write_json(path,data,test=False):\n",
    "  if not isinstance(data, dict):\n",
    "    data = data.to_dict(\"records\")\n",
    "\n",
    "  with open(path, \"w\") as output_file:\n",
    "      json.dump(data, output_file, indent=2,ensure_ascii=False)"
   ]
  },
  {
   "cell_type": "code",
   "execution_count": null,
   "metadata": {
    "colab": {
     "background_save": true
    },
    "id": "dem8GK7KhEEN"
   },
   "outputs": [],
   "source": [
    "summary = {\n",
    "    \"checkpoint\" : checkpoint,\n",
    "    \"best_model\" : best_model,\n",
    "    \"best_treshold\": best_threshold,\n",
    "    \"best_learning_rate\": best_learning_rate,\n",
    "    \"empty_labels\": empty_labels,\n",
    "    \"train_files\" : dataset_memes_2024_files\n",
    "}\n",
    "\n",
    "summary"
   ]
  },
  {
   "cell_type": "code",
   "execution_count": null,
   "metadata": {
    "colab": {
     "background_save": true
    },
    "id": "IRKBNZcmlNjt"
   },
   "outputs": [],
   "source": [
    "summary_file_path = summary_dir_path + \"summary.json\"\n",
    "if not os.path.exists(summary_dir_path):\n",
    "  os.makedirs(summary_dir_path)\n",
    "write_json(summary_file_path, summary)"
   ]
  },
  {
   "cell_type": "markdown",
   "metadata": {
    "id": "PIIibs-MmNWY"
   },
   "source": [
    "Delete output and tmp files"
   ]
  },
  {
   "cell_type": "code",
   "execution_count": null,
   "metadata": {
    "colab": {
     "background_save": true
    },
    "id": "5mWJ1F7xmNWY"
   },
   "outputs": [],
   "source": [
    "def delete_dir(path):\n",
    "    if os.path.exists(path):\n",
    "        try:\n",
    "            shutil.rmtree(path)\n",
    "            print(f\"The directory {path} and all its contents have been deleted successfully\")\n",
    "        except OSError as e:\n",
    "            print(f\"Error: {e.strerror}\")\n",
    "    else:\n",
    "        print(f\"The directory {path} does not exist\")"
   ]
  },
  {
   "cell_type": "code",
   "execution_count": null,
   "metadata": {
    "colab": {
     "background_save": true
    },
    "id": "-lQ_qjBJmNWY"
   },
   "outputs": [],
   "source": [
    "def delete_output_dirs(parent_directory):\n",
    "    for entry in os.listdir(parent_directory):\n",
    "        entry_path = os.path.join(parent_directory, entry)\n",
    "\n",
    "        if os.path.isdir(entry_path) and entry.startswith('output_'):\n",
    "            delete_dir(entry_path)"
   ]
  },
  {
   "cell_type": "code",
   "execution_count": null,
   "metadata": {
    "colab": {
     "background_save": true
    },
    "id": "YAqwkPZ2mNWZ"
   },
   "outputs": [],
   "source": [
    "path = folder_name + \"subtask1\"\n",
    "delete_output_dirs(path)\n",
    "path = path + \"/transformer/training/\"\n",
    "delete_dir(path + \"tumnlp\")\n",
    "delete_dir(path + \"wandb\")\n",
    "delete_dir(path + \"artifacts\")\n",
    "delete_dir(path + \"tmp_trainer\")"
   ]
  },
  {
   "cell_type": "markdown",
   "metadata": {
    "id": "Bayl98mc5QHJ"
   },
   "source": [
    "## Evaluation"
   ]
  },
  {
   "cell_type": "code",
   "execution_count": null,
   "metadata": {
    "colab": {
     "background_save": true
    },
    "id": "MH9LTgTpbZjW"
   },
   "outputs": [],
   "source": [
    "tokenizer = AutoTokenizer.from_pretrained(checkpoint)\n",
    "data_collator = DataCollatorWithPadding(tokenizer=tokenizer)\n",
    "def tokenize(examples):\n",
    "    encoding = tokenizer(examples[\"text\"], truncation=True,padding=True, max_length=512)\n",
    "    return encoding"
   ]
  },
  {
   "cell_type": "code",
   "execution_count": null,
   "metadata": {
    "colab": {
     "background_save": true
    },
    "id": "BoYYxXhI69NI"
   },
   "outputs": [],
   "source": [
    "def get_preds(binarizer,predicted_logits,threshold=0.5):\n",
    "\n",
    "  predicted_logits_tensor = torch.from_numpy(predicted_logits)\n",
    "  sigmoid = torch.nn.Sigmoid()\n",
    "  probs = sigmoid(predicted_logits_tensor)\n",
    "  preds=(probs>threshold).int()\n",
    "\n",
    "  mask = (preds == 1)\n",
    "\n",
    "  # Use the mask to select the corresponding probabilities\n",
    "  selected_probs_list = []\n",
    "\n",
    "  # Iterate over rows and select probabilities using the mask\n",
    "  for i in range(preds.size(0)):\n",
    "      selected_probs_row = probs[i][mask[i]].tolist()\n",
    "      selected_probs_list.append(selected_probs_row)\n",
    "\n",
    "  names=binarizer.inverse_transform(preds)\n",
    "  res=[(list(x), y) for x, y in zip(names, selected_probs_list)]\n",
    "  return res"
   ]
  },
  {
   "cell_type": "code",
   "execution_count": null,
   "metadata": {
    "colab": {
     "background_save": true
    },
    "id": "KoMFO3OJ6_PZ"
   },
   "outputs": [],
   "source": [
    "project_name=\"subtask1_multilabel_transformer_encoder_classification\"\n",
    "\n",
    "def return_trainer(model_name,unique_labels):\n",
    "  api = wandb.Api()\n",
    "  artifact=api.artifact(model_name)\n",
    "  model_dir=artifact.download()\n",
    "  model = AutoModelForSequenceClassification.from_pretrained(model_dir, num_labels=len(unique_labels[0]), problem_type=\"multi_label_classification\", ignore_mismatched_sizes=True)\n",
    "\n",
    "  trainer = Trainer(model=model)\n",
    "  if torch.cuda.is_available():\n",
    "    trainer.model = model.cuda()\n",
    "  return trainer"
   ]
  },
  {
   "cell_type": "markdown",
   "metadata": {
    "id": "9W_9BK66_Lbf"
   },
   "source": [
    "### Evaluate validation set"
   ]
  },
  {
   "cell_type": "code",
   "execution_count": null,
   "metadata": {
    "colab": {
     "background_save": true
    },
    "id": "8aExzHbi_Hnb"
   },
   "outputs": [],
   "source": [
    "prediction_set=dataset_val['val']\n",
    "prediction_set=prediction_set.remove_columns([\"labels\"])"
   ]
  },
  {
   "cell_type": "code",
   "execution_count": null,
   "metadata": {
    "colab": {
     "background_save": true
    },
    "id": "okHJH5Oj6_AQ"
   },
   "outputs": [],
   "source": [
    "trainer=return_trainer(best_model, techniques)\n",
    "threshold=best_threshold\n",
    "prediction_set_tokenized=prediction_set.map(tokenize, batched=True)\n",
    "\n",
    "preds=get_preds(mlb,trainer.predict(prediction_set_tokenized).predictions,threshold)\n",
    "final_ds=dict(zip(prediction_set_tokenized[\"id\"],preds))"
   ]
  },
  {
   "cell_type": "markdown",
   "metadata": {
    "id": "1vTq-syr8Gyf"
   },
   "source": [
    "### Evaluate using the scorer script"
   ]
  },
  {
   "cell_type": "code",
   "execution_count": null,
   "metadata": {
    "colab": {
     "background_save": true
    },
    "id": "cMWgd6WI1HNt"
   },
   "outputs": [],
   "source": [
    "def hierarchical_scores(gold_label_path, pred_label_path):\n",
    "    scorer = folder_name + \"subtask1/subtask_1_2a.py\"\n",
    "    command = f'python3 {scorer} --gold_file_path {gold_label_path} --pred_file_path {pred_label_path}'\n",
    "\n",
    "    result = subprocess.run(command, shell=True, check=True, stdout=subprocess.PIPE, text=True)\n",
    "    output = result.stdout.strip()\n",
    "\n",
    "    parts = output.split('\\t')\n",
    "    f1_h = parts[0].split('=')[1]\n",
    "    prec_h = parts[1].split('=')[1]\n",
    "    rec_h = parts[2].split('=')[1]\n",
    "\n",
    "    f1_h = float(f1_h)\n",
    "    prec_h = float(prec_h)\n",
    "    rec_h = float(rec_h)\n",
    "\n",
    "    hierarchical_metrics = {\"f1_hierarchical\": f1_h, \"precision_hierarchical\": prec_h, \"recall_hierarchical\": rec_h}\n",
    "    return hierarchical_metrics"
   ]
  },
  {
   "cell_type": "code",
   "execution_count": null,
   "metadata": {
    "colab": {
     "background_save": true
    },
    "id": "OoPDfRUd6-3a"
   },
   "outputs": [],
   "source": [
    "top_k=0\n",
    "hierarchical_metrics = {\"f1_hierarchical\": 0, \"precision_hierarchical\": 0, \"recall_hierarchical\": 0}\n",
    "final_df = dict()\n",
    "for curr_top_k in range(11):\n",
    "    curr_final_df=dict()\n",
    "    for k,v in final_ds.items():\n",
    "      if len(v)>0:\n",
    "        pred_prob=list(zip(v[0],v[1]))\n",
    "        pred_prob.sort(key=lambda x: -x[1])\n",
    "\n",
    "        tmp=[]\n",
    "        i=0\n",
    "        for el in pred_prob:\n",
    "          if i==curr_top_k:\n",
    "            break\n",
    "          if el[0] not in tmp:\n",
    "            tmp.append(el[0])\n",
    "            i+=1\n",
    "        curr_final_df[str(k)]=tmp\n",
    "      else:\n",
    "        curr_final_df[str(k)]=v\n",
    "\n",
    "    curr_pred_df=pd.DataFrame.from_dict({\"id\":curr_final_df.keys(),\"labels\":curr_final_df.values()})\n",
    "    curr_val_pred_file=\"tmp/\" + \"val_pred.json\"\n",
    "    if not os.path.exists(\"tmp/\"):\n",
    "        os.makedirs(\"tmp/\")\n",
    "    write_json(curr_val_pred_file,curr_pred_df)\n",
    "\n",
    "    curr_hierarchical_metrics = hierarchical_scores(val_path,curr_val_pred_file)\n",
    "\n",
    "    shutil.rmtree(\"tmp/\")\n",
    "\n",
    "    print(f\"{curr_top_k}:\")\n",
    "    print(curr_hierarchical_metrics)\n",
    "    if curr_hierarchical_metrics['f1_hierarchical'] >= hierarchical_metrics['f1_hierarchical']:\n",
    "        hierarchical_metrics = curr_hierarchical_metrics\n",
    "        top_k = curr_top_k\n",
    "        final_df = curr_final_df\n",
    "\n",
    "print(f\"\\nBest result with top_k = {top_k}\")"
   ]
  },
  {
   "cell_type": "code",
   "execution_count": null,
   "metadata": {
    "colab": {
     "background_save": true
    },
    "id": "2gAzLzit8DZU"
   },
   "outputs": [],
   "source": [
    "pred_df=pd.DataFrame.from_dict({\"id\":final_df.keys(),\"labels\":final_df.values()})\n",
    "\n",
    "val_pred_file=summary_dir_path + \"val_pred.json\"\n",
    "if not os.path.exists(summary_dir_path):\n",
    "  os.makedirs(summary_dir_path)\n",
    "\n",
    "write_json(val_pred_file,pred_df)\n",
    "\n",
    "hierarchical_scores(val_path,val_pred_file)"
   ]
  },
  {
   "cell_type": "code",
   "execution_count": null,
   "metadata": {
    "colab": {
     "background_save": true
    },
    "id": "yNgHBmIUoF_r"
   },
   "outputs": [],
   "source": [
    "summary[\"top_k\"] = top_k\n",
    "summary[\"Validation score\"] = hierarchical_metrics\n",
    "\n",
    "write_json(summary_file_path, summary)"
   ]
  },
  {
   "cell_type": "markdown",
   "metadata": {
    "id": "S2nBa9z1-4hk"
   },
   "source": [
    "### Create dev output file"
   ]
  },
  {
   "cell_type": "code",
   "execution_count": null,
   "metadata": {
    "colab": {
     "background_save": true
    },
    "id": "4d4QA0EJ-64r"
   },
   "outputs": [],
   "source": [
    "prediction_set=dataset_test[\"test\"]"
   ]
  },
  {
   "cell_type": "code",
   "execution_count": null,
   "metadata": {
    "colab": {
     "background_save": true
    },
    "id": "2FLTozDoFQAR"
   },
   "outputs": [],
   "source": [
    "trainer=return_trainer(best_model, techniques)\n",
    "threshold=best_threshold\n",
    "prediction_set_tokenized=prediction_set.map(tokenize, batched=True)\n",
    "\n",
    "preds=get_preds(mlb,trainer.predict(prediction_set_tokenized).predictions,threshold)\n",
    "final_ds=dict(zip(prediction_set_tokenized[\"id\"],preds))\n"
   ]
  },
  {
   "cell_type": "code",
   "execution_count": null,
   "metadata": {
    "colab": {
     "background_save": true
    },
    "id": "xkRdqXLe_S16"
   },
   "outputs": [],
   "source": [
    "final_df=dict()\n",
    "for k,v in final_ds.items():\n",
    "  if len(v)>0:\n",
    "    pred_prob=list(zip(v[0],v[1]))\n",
    "    pred_prob.sort(key=lambda x: -x[1])\n",
    "\n",
    "    tmp=[]\n",
    "    i=0\n",
    "    for el in pred_prob:\n",
    "      if i==top_k:\n",
    "        break\n",
    "      if el[0] not in tmp:\n",
    "        tmp.append(el[0])\n",
    "        i+=1\n",
    "    final_df[str(k)]=tmp\n",
    "  else:\n",
    "    final_df[str(k)]=v\n"
   ]
  },
  {
   "cell_type": "code",
   "execution_count": null,
   "metadata": {
    "colab": {
     "background_save": true
    },
    "id": "SRlihls5qM4j"
   },
   "outputs": [],
   "source": [
    "pred_df=pd.DataFrame.from_dict({\"id\":final_df.keys(),\"labels\":final_df.values()})\n",
    "\n",
    "dev_pred_file=summary_dir_path + \"dev_pred.json\"\n",
    "if not os.path.exists(summary_dir_path):\n",
    "  os.makedirs(summary_dir_path)\n",
    "\n",
    "write_json(dev_pred_file,pred_df)"
   ]
  },
  {
   "cell_type": "markdown",
   "metadata": {
    "id": "rJbtTU5SmNWa"
   },
   "source": [
    "Delete output and tmp files"
   ]
  },
  {
   "cell_type": "code",
   "execution_count": null,
   "metadata": {
    "colab": {
     "background_save": true
    },
    "id": "BGBNRSCm_Xzp"
   },
   "outputs": [],
   "source": [
    "path = folder_name + \"subtask1/\"\n",
    "delete_output_dirs(path)\n",
    "path = path + \"/transformer/training/\"\n",
    "delete_dir(path + \"tumnlp\")\n",
    "delete_dir(path + \"wandb\")\n",
    "delete_dir(path + \"artifacts\")\n",
    "delete_dir(path + \"tmp_trainer\")"
   ]
  },
  {
   "cell_type": "code",
   "execution_count": null,
   "metadata": {
    "id": "0YoGNsjA4EZP"
   },
   "outputs": [],
   "source": [
    "delete_dir('/content/wandb')\n",
    "delete_dir('/content/tumnlp')\n",
    "# empty trash of drive\n",
    "#drive_service.files().emptyTrash().execute()"
   ]
  }
 ],
 "metadata": {
  "accelerator": "GPU",
  "colab": {
   "name": "",
   "version": ""
  },
  "kernelspec": {
   "display_name": "nlp_praktikum_env",
   "language": "python",
   "name": "nlp_praktikum_env"
  },
  "language_info": {
   "codemirror_mode": {
    "name": "ipython",
    "version": 3
   },
   "file_extension": ".py",
   "mimetype": "text/x-python",
   "name": "python",
   "nbconvert_exporter": "python",
   "pygments_lexer": "ipython3",
   "version": "3.10.12"
  },
  "widgets": {
   "application/vnd.jupyter.widget-state+json": {
    "0815860b4cea4aa7a02d60e4a7440b48": {
     "model_module": "@jupyter-widgets/base",
     "model_module_version": "1.2.0",
     "model_name": "LayoutModel",
     "state": {
      "_model_module": "@jupyter-widgets/base",
      "_model_module_version": "1.2.0",
      "_model_name": "LayoutModel",
      "_view_count": null,
      "_view_module": "@jupyter-widgets/base",
      "_view_module_version": "1.2.0",
      "_view_name": "LayoutView",
      "align_content": null,
      "align_items": null,
      "align_self": null,
      "border": null,
      "bottom": null,
      "display": null,
      "flex": null,
      "flex_flow": null,
      "grid_area": null,
      "grid_auto_columns": null,
      "grid_auto_flow": null,
      "grid_auto_rows": null,
      "grid_column": null,
      "grid_gap": null,
      "grid_row": null,
      "grid_template_areas": null,
      "grid_template_columns": null,
      "grid_template_rows": null,
      "height": null,
      "justify_content": null,
      "justify_items": null,
      "left": null,
      "margin": null,
      "max_height": null,
      "max_width": null,
      "min_height": null,
      "min_width": null,
      "object_fit": null,
      "object_position": null,
      "order": null,
      "overflow": null,
      "overflow_x": null,
      "overflow_y": null,
      "padding": null,
      "right": null,
      "top": null,
      "visibility": null,
      "width": null
     }
    },
    "0c2d0e30910a4ea58be0794d3d35a336": {
     "model_module": "@jupyter-widgets/base",
     "model_module_version": "1.2.0",
     "model_name": "LayoutModel",
     "state": {
      "_model_module": "@jupyter-widgets/base",
      "_model_module_version": "1.2.0",
      "_model_name": "LayoutModel",
      "_view_count": null,
      "_view_module": "@jupyter-widgets/base",
      "_view_module_version": "1.2.0",
      "_view_name": "LayoutView",
      "align_content": null,
      "align_items": null,
      "align_self": null,
      "border": null,
      "bottom": null,
      "display": null,
      "flex": null,
      "flex_flow": null,
      "grid_area": null,
      "grid_auto_columns": null,
      "grid_auto_flow": null,
      "grid_auto_rows": null,
      "grid_column": null,
      "grid_gap": null,
      "grid_row": null,
      "grid_template_areas": null,
      "grid_template_columns": null,
      "grid_template_rows": null,
      "height": null,
      "justify_content": null,
      "justify_items": null,
      "left": null,
      "margin": null,
      "max_height": null,
      "max_width": null,
      "min_height": null,
      "min_width": null,
      "object_fit": null,
      "object_position": null,
      "order": null,
      "overflow": null,
      "overflow_x": null,
      "overflow_y": null,
      "padding": null,
      "right": null,
      "top": null,
      "visibility": null,
      "width": null
     }
    },
    "16c57992c9184ab6a6de16a41a31352d": {
     "model_module": "@jupyter-widgets/base",
     "model_module_version": "1.2.0",
     "model_name": "LayoutModel",
     "state": {
      "_model_module": "@jupyter-widgets/base",
      "_model_module_version": "1.2.0",
      "_model_name": "LayoutModel",
      "_view_count": null,
      "_view_module": "@jupyter-widgets/base",
      "_view_module_version": "1.2.0",
      "_view_name": "LayoutView",
      "align_content": null,
      "align_items": null,
      "align_self": null,
      "border": null,
      "bottom": null,
      "display": null,
      "flex": null,
      "flex_flow": null,
      "grid_area": null,
      "grid_auto_columns": null,
      "grid_auto_flow": null,
      "grid_auto_rows": null,
      "grid_column": null,
      "grid_gap": null,
      "grid_row": null,
      "grid_template_areas": null,
      "grid_template_columns": null,
      "grid_template_rows": null,
      "height": null,
      "justify_content": null,
      "justify_items": null,
      "left": null,
      "margin": null,
      "max_height": null,
      "max_width": null,
      "min_height": null,
      "min_width": null,
      "object_fit": null,
      "object_position": null,
      "order": null,
      "overflow": null,
      "overflow_x": null,
      "overflow_y": null,
      "padding": null,
      "right": null,
      "top": null,
      "visibility": null,
      "width": null
     }
    },
    "1d2601d0a13c46c9b18a08d1fae254a5": {
     "model_module": "@jupyter-widgets/base",
     "model_module_version": "1.2.0",
     "model_name": "LayoutModel",
     "state": {
      "_model_module": "@jupyter-widgets/base",
      "_model_module_version": "1.2.0",
      "_model_name": "LayoutModel",
      "_view_count": null,
      "_view_module": "@jupyter-widgets/base",
      "_view_module_version": "1.2.0",
      "_view_name": "LayoutView",
      "align_content": null,
      "align_items": null,
      "align_self": null,
      "border": null,
      "bottom": null,
      "display": null,
      "flex": null,
      "flex_flow": null,
      "grid_area": null,
      "grid_auto_columns": null,
      "grid_auto_flow": null,
      "grid_auto_rows": null,
      "grid_column": null,
      "grid_gap": null,
      "grid_row": null,
      "grid_template_areas": null,
      "grid_template_columns": null,
      "grid_template_rows": null,
      "height": null,
      "justify_content": null,
      "justify_items": null,
      "left": null,
      "margin": null,
      "max_height": null,
      "max_width": null,
      "min_height": null,
      "min_width": null,
      "object_fit": null,
      "object_position": null,
      "order": null,
      "overflow": null,
      "overflow_x": null,
      "overflow_y": null,
      "padding": null,
      "right": null,
      "top": null,
      "visibility": null,
      "width": null
     }
    },
    "1f91355661f943748d5beee98e29eeee": {
     "model_module": "@jupyter-widgets/base",
     "model_module_version": "1.2.0",
     "model_name": "LayoutModel",
     "state": {
      "_model_module": "@jupyter-widgets/base",
      "_model_module_version": "1.2.0",
      "_model_name": "LayoutModel",
      "_view_count": null,
      "_view_module": "@jupyter-widgets/base",
      "_view_module_version": "1.2.0",
      "_view_name": "LayoutView",
      "align_content": null,
      "align_items": null,
      "align_self": null,
      "border": null,
      "bottom": null,
      "display": null,
      "flex": null,
      "flex_flow": null,
      "grid_area": null,
      "grid_auto_columns": null,
      "grid_auto_flow": null,
      "grid_auto_rows": null,
      "grid_column": null,
      "grid_gap": null,
      "grid_row": null,
      "grid_template_areas": null,
      "grid_template_columns": null,
      "grid_template_rows": null,
      "height": null,
      "justify_content": null,
      "justify_items": null,
      "left": null,
      "margin": null,
      "max_height": null,
      "max_width": null,
      "min_height": null,
      "min_width": null,
      "object_fit": null,
      "object_position": null,
      "order": null,
      "overflow": null,
      "overflow_x": null,
      "overflow_y": null,
      "padding": null,
      "right": null,
      "top": null,
      "visibility": null,
      "width": null
     }
    },
    "277fdc60b0fa4c0fbba26569a3ffe41f": {
     "model_module": "@jupyter-widgets/base",
     "model_module_version": "1.2.0",
     "model_name": "LayoutModel",
     "state": {
      "_model_module": "@jupyter-widgets/base",
      "_model_module_version": "1.2.0",
      "_model_name": "LayoutModel",
      "_view_count": null,
      "_view_module": "@jupyter-widgets/base",
      "_view_module_version": "1.2.0",
      "_view_name": "LayoutView",
      "align_content": null,
      "align_items": null,
      "align_self": null,
      "border": null,
      "bottom": null,
      "display": null,
      "flex": null,
      "flex_flow": null,
      "grid_area": null,
      "grid_auto_columns": null,
      "grid_auto_flow": null,
      "grid_auto_rows": null,
      "grid_column": null,
      "grid_gap": null,
      "grid_row": null,
      "grid_template_areas": null,
      "grid_template_columns": null,
      "grid_template_rows": null,
      "height": null,
      "justify_content": null,
      "justify_items": null,
      "left": null,
      "margin": null,
      "max_height": null,
      "max_width": null,
      "min_height": null,
      "min_width": null,
      "object_fit": null,
      "object_position": null,
      "order": null,
      "overflow": null,
      "overflow_x": null,
      "overflow_y": null,
      "padding": null,
      "right": null,
      "top": null,
      "visibility": null,
      "width": null
     }
    },
    "2d5adff9b6a44af9b6bbbbd876f91022": {
     "model_module": "@jupyter-widgets/controls",
     "model_module_version": "1.5.0",
     "model_name": "HBoxModel",
     "state": {
      "_dom_classes": [],
      "_model_module": "@jupyter-widgets/controls",
      "_model_module_version": "1.5.0",
      "_model_name": "HBoxModel",
      "_view_count": null,
      "_view_module": "@jupyter-widgets/controls",
      "_view_module_version": "1.5.0",
      "_view_name": "HBoxView",
      "box_style": "",
      "children": [
       "IPY_MODEL_8230a2d59d17461c907ea39f759bea1e",
       "IPY_MODEL_7d282c4ca5db471a85b5d514fc346dca",
       "IPY_MODEL_8a4f23074989465ab348df713776bd89"
      ],
      "layout": "IPY_MODEL_89f3b390edb2457dad42c76eb2fb53ea"
     }
    },
    "359363b6526b415bb94ad7e23901c2ae": {
     "model_module": "@jupyter-widgets/controls",
     "model_module_version": "1.5.0",
     "model_name": "DescriptionStyleModel",
     "state": {
      "_model_module": "@jupyter-widgets/controls",
      "_model_module_version": "1.5.0",
      "_model_name": "DescriptionStyleModel",
      "_view_count": null,
      "_view_module": "@jupyter-widgets/base",
      "_view_module_version": "1.2.0",
      "_view_name": "StyleView",
      "description_width": ""
     }
    },
    "369bad48b4b645ed85a1483f3cc2d83d": {
     "model_module": "@jupyter-widgets/controls",
     "model_module_version": "1.5.0",
     "model_name": "HBoxModel",
     "state": {
      "_dom_classes": [],
      "_model_module": "@jupyter-widgets/controls",
      "_model_module_version": "1.5.0",
      "_model_name": "HBoxModel",
      "_view_count": null,
      "_view_module": "@jupyter-widgets/controls",
      "_view_module_version": "1.5.0",
      "_view_name": "HBoxView",
      "box_style": "",
      "children": [
       "IPY_MODEL_4c560efcdbc2492e9c35deeab3d8114b",
       "IPY_MODEL_a41dd09c8431418a9fcfe69bca1130e0",
       "IPY_MODEL_3de3c02f84844a298479296e02898d57"
      ],
      "layout": "IPY_MODEL_682498ad550146e7a97b1f2c89bc5a39"
     }
    },
    "36b33c1b148e4ee591fe73503eb12dd7": {
     "model_module": "@jupyter-widgets/base",
     "model_module_version": "1.2.0",
     "model_name": "LayoutModel",
     "state": {
      "_model_module": "@jupyter-widgets/base",
      "_model_module_version": "1.2.0",
      "_model_name": "LayoutModel",
      "_view_count": null,
      "_view_module": "@jupyter-widgets/base",
      "_view_module_version": "1.2.0",
      "_view_name": "LayoutView",
      "align_content": null,
      "align_items": null,
      "align_self": null,
      "border": null,
      "bottom": null,
      "display": null,
      "flex": null,
      "flex_flow": null,
      "grid_area": null,
      "grid_auto_columns": null,
      "grid_auto_flow": null,
      "grid_auto_rows": null,
      "grid_column": null,
      "grid_gap": null,
      "grid_row": null,
      "grid_template_areas": null,
      "grid_template_columns": null,
      "grid_template_rows": null,
      "height": null,
      "justify_content": null,
      "justify_items": null,
      "left": null,
      "margin": null,
      "max_height": null,
      "max_width": null,
      "min_height": null,
      "min_width": null,
      "object_fit": null,
      "object_position": null,
      "order": null,
      "overflow": null,
      "overflow_x": null,
      "overflow_y": null,
      "padding": null,
      "right": null,
      "top": null,
      "visibility": null,
      "width": null
     }
    },
    "38fb1de7f0ad4f15ae4cdb084ce3ded4": {
     "model_module": "@jupyter-widgets/base",
     "model_module_version": "1.2.0",
     "model_name": "LayoutModel",
     "state": {
      "_model_module": "@jupyter-widgets/base",
      "_model_module_version": "1.2.0",
      "_model_name": "LayoutModel",
      "_view_count": null,
      "_view_module": "@jupyter-widgets/base",
      "_view_module_version": "1.2.0",
      "_view_name": "LayoutView",
      "align_content": null,
      "align_items": null,
      "align_self": null,
      "border": null,
      "bottom": null,
      "display": null,
      "flex": null,
      "flex_flow": null,
      "grid_area": null,
      "grid_auto_columns": null,
      "grid_auto_flow": null,
      "grid_auto_rows": null,
      "grid_column": null,
      "grid_gap": null,
      "grid_row": null,
      "grid_template_areas": null,
      "grid_template_columns": null,
      "grid_template_rows": null,
      "height": null,
      "justify_content": null,
      "justify_items": null,
      "left": null,
      "margin": null,
      "max_height": null,
      "max_width": null,
      "min_height": null,
      "min_width": null,
      "object_fit": null,
      "object_position": null,
      "order": null,
      "overflow": null,
      "overflow_x": null,
      "overflow_y": null,
      "padding": null,
      "right": null,
      "top": null,
      "visibility": null,
      "width": null
     }
    },
    "3de3c02f84844a298479296e02898d57": {
     "model_module": "@jupyter-widgets/controls",
     "model_module_version": "1.5.0",
     "model_name": "HTMLModel",
     "state": {
      "_dom_classes": [],
      "_model_module": "@jupyter-widgets/controls",
      "_model_module_version": "1.5.0",
      "_model_name": "HTMLModel",
      "_view_count": null,
      "_view_module": "@jupyter-widgets/controls",
      "_view_module_version": "1.5.0",
      "_view_name": "HTMLView",
      "description": "",
      "description_tooltip": null,
      "layout": "IPY_MODEL_c76bc12765c84018b4e5aa53ca5274f9",
      "placeholder": "​",
      "style": "IPY_MODEL_359363b6526b415bb94ad7e23901c2ae",
      "value": " 580/580 [00:00&lt;00:00, 39.3kB/s]"
     }
    },
    "3e6f3cb6fc444ba8a1c53aaf438f41f0": {
     "model_module": "@jupyter-widgets/controls",
     "model_module_version": "1.5.0",
     "model_name": "LabelModel",
     "state": {
      "_dom_classes": [],
      "_model_module": "@jupyter-widgets/controls",
      "_model_module_version": "1.5.0",
      "_model_name": "LabelModel",
      "_view_count": null,
      "_view_module": "@jupyter-widgets/controls",
      "_view_module_version": "1.5.0",
      "_view_name": "LabelView",
      "description": "",
      "description_tooltip": null,
      "layout": "IPY_MODEL_4a09553ad5ac4aa5854ea319952d1373",
      "placeholder": "​",
      "style": "IPY_MODEL_6dbfc1cf292c473694a3ac8ce452b1d3",
      "value": "1670.390 MB of 1670.390 MB uploaded\r"
     }
    },
    "43d7ca3c54bb4668a94de1f97abe69c4": {
     "model_module": "@jupyter-widgets/base",
     "model_module_version": "1.2.0",
     "model_name": "LayoutModel",
     "state": {
      "_model_module": "@jupyter-widgets/base",
      "_model_module_version": "1.2.0",
      "_model_name": "LayoutModel",
      "_view_count": null,
      "_view_module": "@jupyter-widgets/base",
      "_view_module_version": "1.2.0",
      "_view_name": "LayoutView",
      "align_content": null,
      "align_items": null,
      "align_self": null,
      "border": null,
      "bottom": null,
      "display": null,
      "flex": null,
      "flex_flow": null,
      "grid_area": null,
      "grid_auto_columns": null,
      "grid_auto_flow": null,
      "grid_auto_rows": null,
      "grid_column": null,
      "grid_gap": null,
      "grid_row": null,
      "grid_template_areas": null,
      "grid_template_columns": null,
      "grid_template_rows": null,
      "height": null,
      "justify_content": null,
      "justify_items": null,
      "left": null,
      "margin": null,
      "max_height": null,
      "max_width": null,
      "min_height": null,
      "min_width": null,
      "object_fit": null,
      "object_position": null,
      "order": null,
      "overflow": null,
      "overflow_x": null,
      "overflow_y": null,
      "padding": null,
      "right": null,
      "top": null,
      "visibility": null,
      "width": null
     }
    },
    "45319b015e7f4f41a9ffd34151aeb2ac": {
     "model_module": "@jupyter-widgets/controls",
     "model_module_version": "1.5.0",
     "model_name": "HTMLModel",
     "state": {
      "_dom_classes": [],
      "_model_module": "@jupyter-widgets/controls",
      "_model_module_version": "1.5.0",
      "_model_name": "HTMLModel",
      "_view_count": null,
      "_view_module": "@jupyter-widgets/controls",
      "_view_module_version": "1.5.0",
      "_view_name": "HTMLView",
      "description": "",
      "description_tooltip": null,
      "layout": "IPY_MODEL_b1511515b147480fb5a6bdeff09bbca0",
      "placeholder": "​",
      "style": "IPY_MODEL_e817980f1e7d4a8185f81c1d3e1108da",
      "value": "Map: 100%"
     }
    },
    "46ec6329da0c4b6b800e02282da37abf": {
     "model_module": "@jupyter-widgets/controls",
     "model_module_version": "1.5.0",
     "model_name": "DescriptionStyleModel",
     "state": {
      "_model_module": "@jupyter-widgets/controls",
      "_model_module_version": "1.5.0",
      "_model_name": "DescriptionStyleModel",
      "_view_count": null,
      "_view_module": "@jupyter-widgets/base",
      "_view_module_version": "1.2.0",
      "_view_name": "StyleView",
      "description_width": ""
     }
    },
    "4a09553ad5ac4aa5854ea319952d1373": {
     "model_module": "@jupyter-widgets/base",
     "model_module_version": "1.2.0",
     "model_name": "LayoutModel",
     "state": {
      "_model_module": "@jupyter-widgets/base",
      "_model_module_version": "1.2.0",
      "_model_name": "LayoutModel",
      "_view_count": null,
      "_view_module": "@jupyter-widgets/base",
      "_view_module_version": "1.2.0",
      "_view_name": "LayoutView",
      "align_content": null,
      "align_items": null,
      "align_self": null,
      "border": null,
      "bottom": null,
      "display": null,
      "flex": null,
      "flex_flow": null,
      "grid_area": null,
      "grid_auto_columns": null,
      "grid_auto_flow": null,
      "grid_auto_rows": null,
      "grid_column": null,
      "grid_gap": null,
      "grid_row": null,
      "grid_template_areas": null,
      "grid_template_columns": null,
      "grid_template_rows": null,
      "height": null,
      "justify_content": null,
      "justify_items": null,
      "left": null,
      "margin": null,
      "max_height": null,
      "max_width": null,
      "min_height": null,
      "min_width": null,
      "object_fit": null,
      "object_position": null,
      "order": null,
      "overflow": null,
      "overflow_x": null,
      "overflow_y": null,
      "padding": null,
      "right": null,
      "top": null,
      "visibility": null,
      "width": null
     }
    },
    "4b70a0a5af324eabb2a5d7862a17d87d": {
     "model_module": "@jupyter-widgets/controls",
     "model_module_version": "1.5.0",
     "model_name": "ProgressStyleModel",
     "state": {
      "_model_module": "@jupyter-widgets/controls",
      "_model_module_version": "1.5.0",
      "_model_name": "ProgressStyleModel",
      "_view_count": null,
      "_view_module": "@jupyter-widgets/base",
      "_view_module_version": "1.2.0",
      "_view_name": "StyleView",
      "bar_color": null,
      "description_width": ""
     }
    },
    "4c560efcdbc2492e9c35deeab3d8114b": {
     "model_module": "@jupyter-widgets/controls",
     "model_module_version": "1.5.0",
     "model_name": "HTMLModel",
     "state": {
      "_dom_classes": [],
      "_model_module": "@jupyter-widgets/controls",
      "_model_module_version": "1.5.0",
      "_model_name": "HTMLModel",
      "_view_count": null,
      "_view_module": "@jupyter-widgets/controls",
      "_view_module_version": "1.5.0",
      "_view_name": "HTMLView",
      "description": "",
      "description_tooltip": null,
      "layout": "IPY_MODEL_6937d94fc0d64ad996aba1c2f8aeed75",
      "placeholder": "​",
      "style": "IPY_MODEL_ec1edef59aab4ea8a848d77192688ed8",
      "value": "config.json: 100%"
     }
    },
    "4f9292bfc06343ee83c3e2b48c12e644": {
     "model_module": "@jupyter-widgets/controls",
     "model_module_version": "1.5.0",
     "model_name": "DescriptionStyleModel",
     "state": {
      "_model_module": "@jupyter-widgets/controls",
      "_model_module_version": "1.5.0",
      "_model_name": "DescriptionStyleModel",
      "_view_count": null,
      "_view_module": "@jupyter-widgets/base",
      "_view_module_version": "1.2.0",
      "_view_name": "StyleView",
      "description_width": ""
     }
    },
    "509efd16bd03463bb3c9f0f07c8809ee": {
     "model_module": "@jupyter-widgets/controls",
     "model_module_version": "1.5.0",
     "model_name": "HTMLModel",
     "state": {
      "_dom_classes": [],
      "_model_module": "@jupyter-widgets/controls",
      "_model_module_version": "1.5.0",
      "_model_name": "HTMLModel",
      "_view_count": null,
      "_view_module": "@jupyter-widgets/controls",
      "_view_module_version": "1.5.0",
      "_view_name": "HTMLView",
      "description": "",
      "description_tooltip": null,
      "layout": "IPY_MODEL_0c2d0e30910a4ea58be0794d3d35a336",
      "placeholder": "​",
      "style": "IPY_MODEL_93988915c9884ed29bcda7ed3c83d97b",
      "value": "tokenizer_config.json: 100%"
     }
    },
    "52cd6a135c8f449bb2bea5243598148c": {
     "model_module": "@jupyter-widgets/controls",
     "model_module_version": "1.5.0",
     "model_name": "VBoxModel",
     "state": {
      "_dom_classes": [],
      "_model_module": "@jupyter-widgets/controls",
      "_model_module_version": "1.5.0",
      "_model_name": "VBoxModel",
      "_view_count": null,
      "_view_module": "@jupyter-widgets/controls",
      "_view_module_version": "1.5.0",
      "_view_name": "VBoxView",
      "box_style": "",
      "children": [
       "IPY_MODEL_3e6f3cb6fc444ba8a1c53aaf438f41f0",
       "IPY_MODEL_ec63d8884cd34ea289ae6f955dfb6e76"
      ],
      "layout": "IPY_MODEL_e764a011d66146818e7467dbf879a839"
     }
    },
    "5542319a607d47988e84e6594b64a180": {
     "model_module": "@jupyter-widgets/controls",
     "model_module_version": "1.5.0",
     "model_name": "ProgressStyleModel",
     "state": {
      "_model_module": "@jupyter-widgets/controls",
      "_model_module_version": "1.5.0",
      "_model_name": "ProgressStyleModel",
      "_view_count": null,
      "_view_module": "@jupyter-widgets/base",
      "_view_module_version": "1.2.0",
      "_view_name": "StyleView",
      "bar_color": null,
      "description_width": ""
     }
    },
    "57560c57ae02400ab9eced0aa3cfa1df": {
     "model_module": "@jupyter-widgets/controls",
     "model_module_version": "1.5.0",
     "model_name": "HTMLModel",
     "state": {
      "_dom_classes": [],
      "_model_module": "@jupyter-widgets/controls",
      "_model_module_version": "1.5.0",
      "_model_name": "HTMLModel",
      "_view_count": null,
      "_view_module": "@jupyter-widgets/controls",
      "_view_module_version": "1.5.0",
      "_view_name": "HTMLView",
      "description": "",
      "description_tooltip": null,
      "layout": "IPY_MODEL_43d7ca3c54bb4668a94de1f97abe69c4",
      "placeholder": "​",
      "style": "IPY_MODEL_849e9cf1422b4b3995769ddf5c1d70a7",
      "value": " 52.0/52.0 [00:00&lt;00:00, 2.71kB/s]"
     }
    },
    "5dd337cb61c540a8b834ff8eaf002684": {
     "model_module": "@jupyter-widgets/base",
     "model_module_version": "1.2.0",
     "model_name": "LayoutModel",
     "state": {
      "_model_module": "@jupyter-widgets/base",
      "_model_module_version": "1.2.0",
      "_model_name": "LayoutModel",
      "_view_count": null,
      "_view_module": "@jupyter-widgets/base",
      "_view_module_version": "1.2.0",
      "_view_name": "LayoutView",
      "align_content": null,
      "align_items": null,
      "align_self": null,
      "border": null,
      "bottom": null,
      "display": null,
      "flex": null,
      "flex_flow": null,
      "grid_area": null,
      "grid_auto_columns": null,
      "grid_auto_flow": null,
      "grid_auto_rows": null,
      "grid_column": null,
      "grid_gap": null,
      "grid_row": null,
      "grid_template_areas": null,
      "grid_template_columns": null,
      "grid_template_rows": null,
      "height": null,
      "justify_content": null,
      "justify_items": null,
      "left": null,
      "margin": null,
      "max_height": null,
      "max_width": null,
      "min_height": null,
      "min_width": null,
      "object_fit": null,
      "object_position": null,
      "order": null,
      "overflow": null,
      "overflow_x": null,
      "overflow_y": null,
      "padding": null,
      "right": null,
      "top": null,
      "visibility": null,
      "width": null
     }
    },
    "5ea4dde5a5d045eebfd72296996e0739": {
     "model_module": "@jupyter-widgets/controls",
     "model_module_version": "1.5.0",
     "model_name": "HBoxModel",
     "state": {
      "_dom_classes": [],
      "_model_module": "@jupyter-widgets/controls",
      "_model_module_version": "1.5.0",
      "_model_name": "HBoxModel",
      "_view_count": null,
      "_view_module": "@jupyter-widgets/controls",
      "_view_module_version": "1.5.0",
      "_view_name": "HBoxView",
      "box_style": "",
      "children": [
       "IPY_MODEL_509efd16bd03463bb3c9f0f07c8809ee",
       "IPY_MODEL_7f667d2df44d402d84817359686b0100",
       "IPY_MODEL_57560c57ae02400ab9eced0aa3cfa1df"
      ],
      "layout": "IPY_MODEL_36b33c1b148e4ee591fe73503eb12dd7"
     }
    },
    "6036f1fe32474ee0936e4061471b008f": {
     "model_module": "@jupyter-widgets/controls",
     "model_module_version": "1.5.0",
     "model_name": "HBoxModel",
     "state": {
      "_dom_classes": [],
      "_model_module": "@jupyter-widgets/controls",
      "_model_module_version": "1.5.0",
      "_model_name": "HBoxModel",
      "_view_count": null,
      "_view_module": "@jupyter-widgets/controls",
      "_view_module_version": "1.5.0",
      "_view_name": "HBoxView",
      "box_style": "",
      "children": [
       "IPY_MODEL_903204e13e3344009a88b168b666a5eb",
       "IPY_MODEL_f7c4f630df9d4003813ef23d34a9a4f3",
       "IPY_MODEL_bf63a49eb0774fefaae618a8eb4a4980"
      ],
      "layout": "IPY_MODEL_9ce76073d991433b8cd66fb428b3867b"
     }
    },
    "646a996dbc88470db39e765844873708": {
     "model_module": "@jupyter-widgets/controls",
     "model_module_version": "1.5.0",
     "model_name": "ProgressStyleModel",
     "state": {
      "_model_module": "@jupyter-widgets/controls",
      "_model_module_version": "1.5.0",
      "_model_name": "ProgressStyleModel",
      "_view_count": null,
      "_view_module": "@jupyter-widgets/base",
      "_view_module_version": "1.2.0",
      "_view_name": "StyleView",
      "bar_color": null,
      "description_width": ""
     }
    },
    "682498ad550146e7a97b1f2c89bc5a39": {
     "model_module": "@jupyter-widgets/base",
     "model_module_version": "1.2.0",
     "model_name": "LayoutModel",
     "state": {
      "_model_module": "@jupyter-widgets/base",
      "_model_module_version": "1.2.0",
      "_model_name": "LayoutModel",
      "_view_count": null,
      "_view_module": "@jupyter-widgets/base",
      "_view_module_version": "1.2.0",
      "_view_name": "LayoutView",
      "align_content": null,
      "align_items": null,
      "align_self": null,
      "border": null,
      "bottom": null,
      "display": null,
      "flex": null,
      "flex_flow": null,
      "grid_area": null,
      "grid_auto_columns": null,
      "grid_auto_flow": null,
      "grid_auto_rows": null,
      "grid_column": null,
      "grid_gap": null,
      "grid_row": null,
      "grid_template_areas": null,
      "grid_template_columns": null,
      "grid_template_rows": null,
      "height": null,
      "justify_content": null,
      "justify_items": null,
      "left": null,
      "margin": null,
      "max_height": null,
      "max_width": null,
      "min_height": null,
      "min_width": null,
      "object_fit": null,
      "object_position": null,
      "order": null,
      "overflow": null,
      "overflow_x": null,
      "overflow_y": null,
      "padding": null,
      "right": null,
      "top": null,
      "visibility": null,
      "width": null
     }
    },
    "6937d94fc0d64ad996aba1c2f8aeed75": {
     "model_module": "@jupyter-widgets/base",
     "model_module_version": "1.2.0",
     "model_name": "LayoutModel",
     "state": {
      "_model_module": "@jupyter-widgets/base",
      "_model_module_version": "1.2.0",
      "_model_name": "LayoutModel",
      "_view_count": null,
      "_view_module": "@jupyter-widgets/base",
      "_view_module_version": "1.2.0",
      "_view_name": "LayoutView",
      "align_content": null,
      "align_items": null,
      "align_self": null,
      "border": null,
      "bottom": null,
      "display": null,
      "flex": null,
      "flex_flow": null,
      "grid_area": null,
      "grid_auto_columns": null,
      "grid_auto_flow": null,
      "grid_auto_rows": null,
      "grid_column": null,
      "grid_gap": null,
      "grid_row": null,
      "grid_template_areas": null,
      "grid_template_columns": null,
      "grid_template_rows": null,
      "height": null,
      "justify_content": null,
      "justify_items": null,
      "left": null,
      "margin": null,
      "max_height": null,
      "max_width": null,
      "min_height": null,
      "min_width": null,
      "object_fit": null,
      "object_position": null,
      "order": null,
      "overflow": null,
      "overflow_x": null,
      "overflow_y": null,
      "padding": null,
      "right": null,
      "top": null,
      "visibility": null,
      "width": null
     }
    },
    "6d5f847538994393a8766dc04014881c": {
     "model_module": "@jupyter-widgets/controls",
     "model_module_version": "1.5.0",
     "model_name": "ProgressStyleModel",
     "state": {
      "_model_module": "@jupyter-widgets/controls",
      "_model_module_version": "1.5.0",
      "_model_name": "ProgressStyleModel",
      "_view_count": null,
      "_view_module": "@jupyter-widgets/base",
      "_view_module_version": "1.2.0",
      "_view_name": "StyleView",
      "bar_color": null,
      "description_width": ""
     }
    },
    "6dbfc1cf292c473694a3ac8ce452b1d3": {
     "model_module": "@jupyter-widgets/controls",
     "model_module_version": "1.5.0",
     "model_name": "DescriptionStyleModel",
     "state": {
      "_model_module": "@jupyter-widgets/controls",
      "_model_module_version": "1.5.0",
      "_model_name": "DescriptionStyleModel",
      "_view_count": null,
      "_view_module": "@jupyter-widgets/base",
      "_view_module_version": "1.2.0",
      "_view_name": "StyleView",
      "description_width": ""
     }
    },
    "6fe1498fdfad4637802d342c6000397f": {
     "model_module": "@jupyter-widgets/base",
     "model_module_version": "1.2.0",
     "model_name": "LayoutModel",
     "state": {
      "_model_module": "@jupyter-widgets/base",
      "_model_module_version": "1.2.0",
      "_model_name": "LayoutModel",
      "_view_count": null,
      "_view_module": "@jupyter-widgets/base",
      "_view_module_version": "1.2.0",
      "_view_name": "LayoutView",
      "align_content": null,
      "align_items": null,
      "align_self": null,
      "border": null,
      "bottom": null,
      "display": null,
      "flex": null,
      "flex_flow": null,
      "grid_area": null,
      "grid_auto_columns": null,
      "grid_auto_flow": null,
      "grid_auto_rows": null,
      "grid_column": null,
      "grid_gap": null,
      "grid_row": null,
      "grid_template_areas": null,
      "grid_template_columns": null,
      "grid_template_rows": null,
      "height": null,
      "justify_content": null,
      "justify_items": null,
      "left": null,
      "margin": null,
      "max_height": null,
      "max_width": null,
      "min_height": null,
      "min_width": null,
      "object_fit": null,
      "object_position": null,
      "order": null,
      "overflow": null,
      "overflow_x": null,
      "overflow_y": null,
      "padding": null,
      "right": null,
      "top": null,
      "visibility": null,
      "width": null
     }
    },
    "70072c0a1196434ab92851049297c52e": {
     "model_module": "@jupyter-widgets/controls",
     "model_module_version": "1.5.0",
     "model_name": "HBoxModel",
     "state": {
      "_dom_classes": [],
      "_model_module": "@jupyter-widgets/controls",
      "_model_module_version": "1.5.0",
      "_model_name": "HBoxModel",
      "_view_count": null,
      "_view_module": "@jupyter-widgets/controls",
      "_view_module_version": "1.5.0",
      "_view_name": "HBoxView",
      "box_style": "",
      "children": [
       "IPY_MODEL_45319b015e7f4f41a9ffd34151aeb2ac",
       "IPY_MODEL_9222b2e4ba474f8fac6b5db047c1822a",
       "IPY_MODEL_f450f52f883346eebdf3971d4dcb8eda"
      ],
      "layout": "IPY_MODEL_fc84ab8a6271411fa65761a1d592c436"
     }
    },
    "75f45c9ddef74be580ce2dac09e11c0c": {
     "model_module": "@jupyter-widgets/controls",
     "model_module_version": "1.5.0",
     "model_name": "HTMLModel",
     "state": {
      "_dom_classes": [],
      "_model_module": "@jupyter-widgets/controls",
      "_model_module_version": "1.5.0",
      "_model_name": "HTMLModel",
      "_view_count": null,
      "_view_module": "@jupyter-widgets/controls",
      "_view_module_version": "1.5.0",
      "_view_name": "HTMLView",
      "description": "",
      "description_tooltip": null,
      "layout": "IPY_MODEL_a8123666d7cc40579f45e7aa0aeb215b",
      "placeholder": "​",
      "style": "IPY_MODEL_46ec6329da0c4b6b800e02282da37abf",
      "value": " 2.46M/2.46M [00:00&lt;00:00, 50.2MB/s]"
     }
    },
    "7d282c4ca5db471a85b5d514fc346dca": {
     "model_module": "@jupyter-widgets/controls",
     "model_module_version": "1.5.0",
     "model_name": "FloatProgressModel",
     "state": {
      "_dom_classes": [],
      "_model_module": "@jupyter-widgets/controls",
      "_model_module_version": "1.5.0",
      "_model_name": "FloatProgressModel",
      "_view_count": null,
      "_view_module": "@jupyter-widgets/controls",
      "_view_module_version": "1.5.0",
      "_view_name": "ProgressView",
      "bar_style": "success",
      "description": "",
      "description_tooltip": null,
      "layout": "IPY_MODEL_992e841fc5344a08a3fbe39ab9493ffd",
      "max": 873673253,
      "min": 0,
      "orientation": "horizontal",
      "style": "IPY_MODEL_d92b743fde1d4854b4d19aa9a66c1547",
      "value": 873673253
     }
    },
    "7f667d2df44d402d84817359686b0100": {
     "model_module": "@jupyter-widgets/controls",
     "model_module_version": "1.5.0",
     "model_name": "FloatProgressModel",
     "state": {
      "_dom_classes": [],
      "_model_module": "@jupyter-widgets/controls",
      "_model_module_version": "1.5.0",
      "_model_name": "FloatProgressModel",
      "_view_count": null,
      "_view_module": "@jupyter-widgets/controls",
      "_view_module_version": "1.5.0",
      "_view_name": "ProgressView",
      "bar_style": "success",
      "description": "",
      "description_tooltip": null,
      "layout": "IPY_MODEL_6fe1498fdfad4637802d342c6000397f",
      "max": 52,
      "min": 0,
      "orientation": "horizontal",
      "style": "IPY_MODEL_646a996dbc88470db39e765844873708",
      "value": 52
     }
    },
    "8230a2d59d17461c907ea39f759bea1e": {
     "model_module": "@jupyter-widgets/controls",
     "model_module_version": "1.5.0",
     "model_name": "HTMLModel",
     "state": {
      "_dom_classes": [],
      "_model_module": "@jupyter-widgets/controls",
      "_model_module_version": "1.5.0",
      "_model_name": "HTMLModel",
      "_view_count": null,
      "_view_module": "@jupyter-widgets/controls",
      "_view_module_version": "1.5.0",
      "_view_name": "HTMLView",
      "description": "",
      "description_tooltip": null,
      "layout": "IPY_MODEL_86187705ccaf4cf4ae3e40f843e5e036",
      "placeholder": "​",
      "style": "IPY_MODEL_85b1b572e5c6418987af6b61835aaccd",
      "value": "pytorch_model.bin: 100%"
     }
    },
    "849e9cf1422b4b3995769ddf5c1d70a7": {
     "model_module": "@jupyter-widgets/controls",
     "model_module_version": "1.5.0",
     "model_name": "DescriptionStyleModel",
     "state": {
      "_model_module": "@jupyter-widgets/controls",
      "_model_module_version": "1.5.0",
      "_model_name": "DescriptionStyleModel",
      "_view_count": null,
      "_view_module": "@jupyter-widgets/base",
      "_view_module_version": "1.2.0",
      "_view_name": "StyleView",
      "description_width": ""
     }
    },
    "85b1b572e5c6418987af6b61835aaccd": {
     "model_module": "@jupyter-widgets/controls",
     "model_module_version": "1.5.0",
     "model_name": "DescriptionStyleModel",
     "state": {
      "_model_module": "@jupyter-widgets/controls",
      "_model_module_version": "1.5.0",
      "_model_name": "DescriptionStyleModel",
      "_view_count": null,
      "_view_module": "@jupyter-widgets/base",
      "_view_module_version": "1.2.0",
      "_view_name": "StyleView",
      "description_width": ""
     }
    },
    "86187705ccaf4cf4ae3e40f843e5e036": {
     "model_module": "@jupyter-widgets/base",
     "model_module_version": "1.2.0",
     "model_name": "LayoutModel",
     "state": {
      "_model_module": "@jupyter-widgets/base",
      "_model_module_version": "1.2.0",
      "_model_name": "LayoutModel",
      "_view_count": null,
      "_view_module": "@jupyter-widgets/base",
      "_view_module_version": "1.2.0",
      "_view_name": "LayoutView",
      "align_content": null,
      "align_items": null,
      "align_self": null,
      "border": null,
      "bottom": null,
      "display": null,
      "flex": null,
      "flex_flow": null,
      "grid_area": null,
      "grid_auto_columns": null,
      "grid_auto_flow": null,
      "grid_auto_rows": null,
      "grid_column": null,
      "grid_gap": null,
      "grid_row": null,
      "grid_template_areas": null,
      "grid_template_columns": null,
      "grid_template_rows": null,
      "height": null,
      "justify_content": null,
      "justify_items": null,
      "left": null,
      "margin": null,
      "max_height": null,
      "max_width": null,
      "min_height": null,
      "min_width": null,
      "object_fit": null,
      "object_position": null,
      "order": null,
      "overflow": null,
      "overflow_x": null,
      "overflow_y": null,
      "padding": null,
      "right": null,
      "top": null,
      "visibility": null,
      "width": null
     }
    },
    "89f3b390edb2457dad42c76eb2fb53ea": {
     "model_module": "@jupyter-widgets/base",
     "model_module_version": "1.2.0",
     "model_name": "LayoutModel",
     "state": {
      "_model_module": "@jupyter-widgets/base",
      "_model_module_version": "1.2.0",
      "_model_name": "LayoutModel",
      "_view_count": null,
      "_view_module": "@jupyter-widgets/base",
      "_view_module_version": "1.2.0",
      "_view_name": "LayoutView",
      "align_content": null,
      "align_items": null,
      "align_self": null,
      "border": null,
      "bottom": null,
      "display": null,
      "flex": null,
      "flex_flow": null,
      "grid_area": null,
      "grid_auto_columns": null,
      "grid_auto_flow": null,
      "grid_auto_rows": null,
      "grid_column": null,
      "grid_gap": null,
      "grid_row": null,
      "grid_template_areas": null,
      "grid_template_columns": null,
      "grid_template_rows": null,
      "height": null,
      "justify_content": null,
      "justify_items": null,
      "left": null,
      "margin": null,
      "max_height": null,
      "max_width": null,
      "min_height": null,
      "min_width": null,
      "object_fit": null,
      "object_position": null,
      "order": null,
      "overflow": null,
      "overflow_x": null,
      "overflow_y": null,
      "padding": null,
      "right": null,
      "top": null,
      "visibility": null,
      "width": null
     }
    },
    "8a4f23074989465ab348df713776bd89": {
     "model_module": "@jupyter-widgets/controls",
     "model_module_version": "1.5.0",
     "model_name": "HTMLModel",
     "state": {
      "_dom_classes": [],
      "_model_module": "@jupyter-widgets/controls",
      "_model_module_version": "1.5.0",
      "_model_name": "HTMLModel",
      "_view_count": null,
      "_view_module": "@jupyter-widgets/controls",
      "_view_module_version": "1.5.0",
      "_view_name": "HTMLView",
      "description": "",
      "description_tooltip": null,
      "layout": "IPY_MODEL_1f91355661f943748d5beee98e29eeee",
      "placeholder": "​",
      "style": "IPY_MODEL_4f9292bfc06343ee83c3e2b48c12e644",
      "value": " 874M/874M [00:11&lt;00:00, 78.9MB/s]"
     }
    },
    "903204e13e3344009a88b168b666a5eb": {
     "model_module": "@jupyter-widgets/controls",
     "model_module_version": "1.5.0",
     "model_name": "HTMLModel",
     "state": {
      "_dom_classes": [],
      "_model_module": "@jupyter-widgets/controls",
      "_model_module_version": "1.5.0",
      "_model_name": "HTMLModel",
      "_view_count": null,
      "_view_module": "@jupyter-widgets/controls",
      "_view_module_version": "1.5.0",
      "_view_name": "HTMLView",
      "description": "",
      "description_tooltip": null,
      "layout": "IPY_MODEL_16c57992c9184ab6a6de16a41a31352d",
      "placeholder": "​",
      "style": "IPY_MODEL_ffb08ff51a094e438cde590f9183f916",
      "value": "Map: 100%"
     }
    },
    "9222b2e4ba474f8fac6b5db047c1822a": {
     "model_module": "@jupyter-widgets/controls",
     "model_module_version": "1.5.0",
     "model_name": "FloatProgressModel",
     "state": {
      "_dom_classes": [],
      "_model_module": "@jupyter-widgets/controls",
      "_model_module_version": "1.5.0",
      "_model_name": "FloatProgressModel",
      "_view_count": null,
      "_view_module": "@jupyter-widgets/controls",
      "_view_module_version": "1.5.0",
      "_view_name": "ProgressView",
      "bar_style": "success",
      "description": "",
      "description_tooltip": null,
      "layout": "IPY_MODEL_0815860b4cea4aa7a02d60e4a7440b48",
      "max": 500,
      "min": 0,
      "orientation": "horizontal",
      "style": "IPY_MODEL_5542319a607d47988e84e6594b64a180",
      "value": 500
     }
    },
    "93988915c9884ed29bcda7ed3c83d97b": {
     "model_module": "@jupyter-widgets/controls",
     "model_module_version": "1.5.0",
     "model_name": "DescriptionStyleModel",
     "state": {
      "_model_module": "@jupyter-widgets/controls",
      "_model_module_version": "1.5.0",
      "_model_name": "DescriptionStyleModel",
      "_view_count": null,
      "_view_module": "@jupyter-widgets/base",
      "_view_module_version": "1.2.0",
      "_view_name": "StyleView",
      "description_width": ""
     }
    },
    "94740460630b4b19a78a7d7dca826b91": {
     "model_module": "@jupyter-widgets/controls",
     "model_module_version": "1.5.0",
     "model_name": "DescriptionStyleModel",
     "state": {
      "_model_module": "@jupyter-widgets/controls",
      "_model_module_version": "1.5.0",
      "_model_name": "DescriptionStyleModel",
      "_view_count": null,
      "_view_module": "@jupyter-widgets/base",
      "_view_module_version": "1.2.0",
      "_view_name": "StyleView",
      "description_width": ""
     }
    },
    "992e841fc5344a08a3fbe39ab9493ffd": {
     "model_module": "@jupyter-widgets/base",
     "model_module_version": "1.2.0",
     "model_name": "LayoutModel",
     "state": {
      "_model_module": "@jupyter-widgets/base",
      "_model_module_version": "1.2.0",
      "_model_name": "LayoutModel",
      "_view_count": null,
      "_view_module": "@jupyter-widgets/base",
      "_view_module_version": "1.2.0",
      "_view_name": "LayoutView",
      "align_content": null,
      "align_items": null,
      "align_self": null,
      "border": null,
      "bottom": null,
      "display": null,
      "flex": null,
      "flex_flow": null,
      "grid_area": null,
      "grid_auto_columns": null,
      "grid_auto_flow": null,
      "grid_auto_rows": null,
      "grid_column": null,
      "grid_gap": null,
      "grid_row": null,
      "grid_template_areas": null,
      "grid_template_columns": null,
      "grid_template_rows": null,
      "height": null,
      "justify_content": null,
      "justify_items": null,
      "left": null,
      "margin": null,
      "max_height": null,
      "max_width": null,
      "min_height": null,
      "min_width": null,
      "object_fit": null,
      "object_position": null,
      "order": null,
      "overflow": null,
      "overflow_x": null,
      "overflow_y": null,
      "padding": null,
      "right": null,
      "top": null,
      "visibility": null,
      "width": null
     }
    },
    "9c6e7d0642a343749b443bdf625288f7": {
     "model_module": "@jupyter-widgets/controls",
     "model_module_version": "1.5.0",
     "model_name": "DescriptionStyleModel",
     "state": {
      "_model_module": "@jupyter-widgets/controls",
      "_model_module_version": "1.5.0",
      "_model_name": "DescriptionStyleModel",
      "_view_count": null,
      "_view_module": "@jupyter-widgets/base",
      "_view_module_version": "1.2.0",
      "_view_name": "StyleView",
      "description_width": ""
     }
    },
    "9ce76073d991433b8cd66fb428b3867b": {
     "model_module": "@jupyter-widgets/base",
     "model_module_version": "1.2.0",
     "model_name": "LayoutModel",
     "state": {
      "_model_module": "@jupyter-widgets/base",
      "_model_module_version": "1.2.0",
      "_model_name": "LayoutModel",
      "_view_count": null,
      "_view_module": "@jupyter-widgets/base",
      "_view_module_version": "1.2.0",
      "_view_name": "LayoutView",
      "align_content": null,
      "align_items": null,
      "align_self": null,
      "border": null,
      "bottom": null,
      "display": null,
      "flex": null,
      "flex_flow": null,
      "grid_area": null,
      "grid_auto_columns": null,
      "grid_auto_flow": null,
      "grid_auto_rows": null,
      "grid_column": null,
      "grid_gap": null,
      "grid_row": null,
      "grid_template_areas": null,
      "grid_template_columns": null,
      "grid_template_rows": null,
      "height": null,
      "justify_content": null,
      "justify_items": null,
      "left": null,
      "margin": null,
      "max_height": null,
      "max_width": null,
      "min_height": null,
      "min_width": null,
      "object_fit": null,
      "object_position": null,
      "order": null,
      "overflow": null,
      "overflow_x": null,
      "overflow_y": null,
      "padding": null,
      "right": null,
      "top": null,
      "visibility": null,
      "width": null
     }
    },
    "a41dd09c8431418a9fcfe69bca1130e0": {
     "model_module": "@jupyter-widgets/controls",
     "model_module_version": "1.5.0",
     "model_name": "FloatProgressModel",
     "state": {
      "_dom_classes": [],
      "_model_module": "@jupyter-widgets/controls",
      "_model_module_version": "1.5.0",
      "_model_name": "FloatProgressModel",
      "_view_count": null,
      "_view_module": "@jupyter-widgets/controls",
      "_view_module_version": "1.5.0",
      "_view_name": "ProgressView",
      "bar_style": "success",
      "description": "",
      "description_tooltip": null,
      "layout": "IPY_MODEL_38fb1de7f0ad4f15ae4cdb084ce3ded4",
      "max": 580,
      "min": 0,
      "orientation": "horizontal",
      "style": "IPY_MODEL_4b70a0a5af324eabb2a5d7862a17d87d",
      "value": 580
     }
    },
    "a8123666d7cc40579f45e7aa0aeb215b": {
     "model_module": "@jupyter-widgets/base",
     "model_module_version": "1.2.0",
     "model_name": "LayoutModel",
     "state": {
      "_model_module": "@jupyter-widgets/base",
      "_model_module_version": "1.2.0",
      "_model_name": "LayoutModel",
      "_view_count": null,
      "_view_module": "@jupyter-widgets/base",
      "_view_module_version": "1.2.0",
      "_view_name": "LayoutView",
      "align_content": null,
      "align_items": null,
      "align_self": null,
      "border": null,
      "bottom": null,
      "display": null,
      "flex": null,
      "flex_flow": null,
      "grid_area": null,
      "grid_auto_columns": null,
      "grid_auto_flow": null,
      "grid_auto_rows": null,
      "grid_column": null,
      "grid_gap": null,
      "grid_row": null,
      "grid_template_areas": null,
      "grid_template_columns": null,
      "grid_template_rows": null,
      "height": null,
      "justify_content": null,
      "justify_items": null,
      "left": null,
      "margin": null,
      "max_height": null,
      "max_width": null,
      "min_height": null,
      "min_width": null,
      "object_fit": null,
      "object_position": null,
      "order": null,
      "overflow": null,
      "overflow_x": null,
      "overflow_y": null,
      "padding": null,
      "right": null,
      "top": null,
      "visibility": null,
      "width": null
     }
    },
    "b1511515b147480fb5a6bdeff09bbca0": {
     "model_module": "@jupyter-widgets/base",
     "model_module_version": "1.2.0",
     "model_name": "LayoutModel",
     "state": {
      "_model_module": "@jupyter-widgets/base",
      "_model_module_version": "1.2.0",
      "_model_name": "LayoutModel",
      "_view_count": null,
      "_view_module": "@jupyter-widgets/base",
      "_view_module_version": "1.2.0",
      "_view_name": "LayoutView",
      "align_content": null,
      "align_items": null,
      "align_self": null,
      "border": null,
      "bottom": null,
      "display": null,
      "flex": null,
      "flex_flow": null,
      "grid_area": null,
      "grid_auto_columns": null,
      "grid_auto_flow": null,
      "grid_auto_rows": null,
      "grid_column": null,
      "grid_gap": null,
      "grid_row": null,
      "grid_template_areas": null,
      "grid_template_columns": null,
      "grid_template_rows": null,
      "height": null,
      "justify_content": null,
      "justify_items": null,
      "left": null,
      "margin": null,
      "max_height": null,
      "max_width": null,
      "min_height": null,
      "min_width": null,
      "object_fit": null,
      "object_position": null,
      "order": null,
      "overflow": null,
      "overflow_x": null,
      "overflow_y": null,
      "padding": null,
      "right": null,
      "top": null,
      "visibility": null,
      "width": null
     }
    },
    "bf63a49eb0774fefaae618a8eb4a4980": {
     "model_module": "@jupyter-widgets/controls",
     "model_module_version": "1.5.0",
     "model_name": "HTMLModel",
     "state": {
      "_dom_classes": [],
      "_model_module": "@jupyter-widgets/controls",
      "_model_module_version": "1.5.0",
      "_model_name": "HTMLModel",
      "_view_count": null,
      "_view_module": "@jupyter-widgets/controls",
      "_view_module_version": "1.5.0",
      "_view_name": "HTMLView",
      "description": "",
      "description_tooltip": null,
      "layout": "IPY_MODEL_5dd337cb61c540a8b834ff8eaf002684",
      "placeholder": "​",
      "style": "IPY_MODEL_c22a6f51809f46fd9960192dde8cb66c",
      "value": " 7000/7000 [00:01&lt;00:00, 6228.46 examples/s]"
     }
    },
    "c18d6d2071db49e3aeb6d3e889f35640": {
     "model_module": "@jupyter-widgets/controls",
     "model_module_version": "1.5.0",
     "model_name": "ProgressStyleModel",
     "state": {
      "_model_module": "@jupyter-widgets/controls",
      "_model_module_version": "1.5.0",
      "_model_name": "ProgressStyleModel",
      "_view_count": null,
      "_view_module": "@jupyter-widgets/base",
      "_view_module_version": "1.2.0",
      "_view_name": "StyleView",
      "bar_color": null,
      "description_width": ""
     }
    },
    "c22a6f51809f46fd9960192dde8cb66c": {
     "model_module": "@jupyter-widgets/controls",
     "model_module_version": "1.5.0",
     "model_name": "DescriptionStyleModel",
     "state": {
      "_model_module": "@jupyter-widgets/controls",
      "_model_module_version": "1.5.0",
      "_model_name": "DescriptionStyleModel",
      "_view_count": null,
      "_view_module": "@jupyter-widgets/base",
      "_view_module_version": "1.2.0",
      "_view_name": "StyleView",
      "description_width": ""
     }
    },
    "c60b3a7c6d614aeeb7072017813e448f": {
     "model_module": "@jupyter-widgets/controls",
     "model_module_version": "1.5.0",
     "model_name": "HBoxModel",
     "state": {
      "_dom_classes": [],
      "_model_module": "@jupyter-widgets/controls",
      "_model_module_version": "1.5.0",
      "_model_name": "HBoxModel",
      "_view_count": null,
      "_view_module": "@jupyter-widgets/controls",
      "_view_module_version": "1.5.0",
      "_view_name": "HBoxView",
      "box_style": "",
      "children": [
       "IPY_MODEL_e83c1c27c6dc46fcb5db9b0b8cbbf105",
       "IPY_MODEL_dde0c726e6004980a7a7997dd7206162",
       "IPY_MODEL_75f45c9ddef74be580ce2dac09e11c0c"
      ],
      "layout": "IPY_MODEL_277fdc60b0fa4c0fbba26569a3ffe41f"
     }
    },
    "c76bc12765c84018b4e5aa53ca5274f9": {
     "model_module": "@jupyter-widgets/base",
     "model_module_version": "1.2.0",
     "model_name": "LayoutModel",
     "state": {
      "_model_module": "@jupyter-widgets/base",
      "_model_module_version": "1.2.0",
      "_model_name": "LayoutModel",
      "_view_count": null,
      "_view_module": "@jupyter-widgets/base",
      "_view_module_version": "1.2.0",
      "_view_name": "LayoutView",
      "align_content": null,
      "align_items": null,
      "align_self": null,
      "border": null,
      "bottom": null,
      "display": null,
      "flex": null,
      "flex_flow": null,
      "grid_area": null,
      "grid_auto_columns": null,
      "grid_auto_flow": null,
      "grid_auto_rows": null,
      "grid_column": null,
      "grid_gap": null,
      "grid_row": null,
      "grid_template_areas": null,
      "grid_template_columns": null,
      "grid_template_rows": null,
      "height": null,
      "justify_content": null,
      "justify_items": null,
      "left": null,
      "margin": null,
      "max_height": null,
      "max_width": null,
      "min_height": null,
      "min_width": null,
      "object_fit": null,
      "object_position": null,
      "order": null,
      "overflow": null,
      "overflow_x": null,
      "overflow_y": null,
      "padding": null,
      "right": null,
      "top": null,
      "visibility": null,
      "width": null
     }
    },
    "d92b743fde1d4854b4d19aa9a66c1547": {
     "model_module": "@jupyter-widgets/controls",
     "model_module_version": "1.5.0",
     "model_name": "ProgressStyleModel",
     "state": {
      "_model_module": "@jupyter-widgets/controls",
      "_model_module_version": "1.5.0",
      "_model_name": "ProgressStyleModel",
      "_view_count": null,
      "_view_module": "@jupyter-widgets/base",
      "_view_module_version": "1.2.0",
      "_view_name": "StyleView",
      "bar_color": null,
      "description_width": ""
     }
    },
    "da3a3f157db34005a65780bf2c455d62": {
     "model_module": "@jupyter-widgets/base",
     "model_module_version": "1.2.0",
     "model_name": "LayoutModel",
     "state": {
      "_model_module": "@jupyter-widgets/base",
      "_model_module_version": "1.2.0",
      "_model_name": "LayoutModel",
      "_view_count": null,
      "_view_module": "@jupyter-widgets/base",
      "_view_module_version": "1.2.0",
      "_view_name": "LayoutView",
      "align_content": null,
      "align_items": null,
      "align_self": null,
      "border": null,
      "bottom": null,
      "display": null,
      "flex": null,
      "flex_flow": null,
      "grid_area": null,
      "grid_auto_columns": null,
      "grid_auto_flow": null,
      "grid_auto_rows": null,
      "grid_column": null,
      "grid_gap": null,
      "grid_row": null,
      "grid_template_areas": null,
      "grid_template_columns": null,
      "grid_template_rows": null,
      "height": null,
      "justify_content": null,
      "justify_items": null,
      "left": null,
      "margin": null,
      "max_height": null,
      "max_width": null,
      "min_height": null,
      "min_width": null,
      "object_fit": null,
      "object_position": null,
      "order": null,
      "overflow": null,
      "overflow_x": null,
      "overflow_y": null,
      "padding": null,
      "right": null,
      "top": null,
      "visibility": null,
      "width": null
     }
    },
    "dc9d14055a154cda9d34b00f73d22d52": {
     "model_module": "@jupyter-widgets/base",
     "model_module_version": "1.2.0",
     "model_name": "LayoutModel",
     "state": {
      "_model_module": "@jupyter-widgets/base",
      "_model_module_version": "1.2.0",
      "_model_name": "LayoutModel",
      "_view_count": null,
      "_view_module": "@jupyter-widgets/base",
      "_view_module_version": "1.2.0",
      "_view_name": "LayoutView",
      "align_content": null,
      "align_items": null,
      "align_self": null,
      "border": null,
      "bottom": null,
      "display": null,
      "flex": null,
      "flex_flow": null,
      "grid_area": null,
      "grid_auto_columns": null,
      "grid_auto_flow": null,
      "grid_auto_rows": null,
      "grid_column": null,
      "grid_gap": null,
      "grid_row": null,
      "grid_template_areas": null,
      "grid_template_columns": null,
      "grid_template_rows": null,
      "height": null,
      "justify_content": null,
      "justify_items": null,
      "left": null,
      "margin": null,
      "max_height": null,
      "max_width": null,
      "min_height": null,
      "min_width": null,
      "object_fit": null,
      "object_position": null,
      "order": null,
      "overflow": null,
      "overflow_x": null,
      "overflow_y": null,
      "padding": null,
      "right": null,
      "top": null,
      "visibility": null,
      "width": null
     }
    },
    "dde0c726e6004980a7a7997dd7206162": {
     "model_module": "@jupyter-widgets/controls",
     "model_module_version": "1.5.0",
     "model_name": "FloatProgressModel",
     "state": {
      "_dom_classes": [],
      "_model_module": "@jupyter-widgets/controls",
      "_model_module_version": "1.5.0",
      "_model_name": "FloatProgressModel",
      "_view_count": null,
      "_view_module": "@jupyter-widgets/controls",
      "_view_module_version": "1.5.0",
      "_view_name": "ProgressView",
      "bar_style": "success",
      "description": "",
      "description_tooltip": null,
      "layout": "IPY_MODEL_e914c54d484c42d2b5d59642d8bc1510",
      "max": 2464616,
      "min": 0,
      "orientation": "horizontal",
      "style": "IPY_MODEL_fea7bcaeed124f4fb05ff758b6357caa",
      "value": 2464616
     }
    },
    "de6d20fc8aec437bb68946cf160791f1": {
     "model_module": "@jupyter-widgets/base",
     "model_module_version": "1.2.0",
     "model_name": "LayoutModel",
     "state": {
      "_model_module": "@jupyter-widgets/base",
      "_model_module_version": "1.2.0",
      "_model_name": "LayoutModel",
      "_view_count": null,
      "_view_module": "@jupyter-widgets/base",
      "_view_module_version": "1.2.0",
      "_view_name": "LayoutView",
      "align_content": null,
      "align_items": null,
      "align_self": null,
      "border": null,
      "bottom": null,
      "display": null,
      "flex": null,
      "flex_flow": null,
      "grid_area": null,
      "grid_auto_columns": null,
      "grid_auto_flow": null,
      "grid_auto_rows": null,
      "grid_column": null,
      "grid_gap": null,
      "grid_row": null,
      "grid_template_areas": null,
      "grid_template_columns": null,
      "grid_template_rows": null,
      "height": null,
      "justify_content": null,
      "justify_items": null,
      "left": null,
      "margin": null,
      "max_height": null,
      "max_width": null,
      "min_height": null,
      "min_width": null,
      "object_fit": null,
      "object_position": null,
      "order": null,
      "overflow": null,
      "overflow_x": null,
      "overflow_y": null,
      "padding": null,
      "right": null,
      "top": null,
      "visibility": null,
      "width": null
     }
    },
    "e764a011d66146818e7467dbf879a839": {
     "model_module": "@jupyter-widgets/base",
     "model_module_version": "1.2.0",
     "model_name": "LayoutModel",
     "state": {
      "_model_module": "@jupyter-widgets/base",
      "_model_module_version": "1.2.0",
      "_model_name": "LayoutModel",
      "_view_count": null,
      "_view_module": "@jupyter-widgets/base",
      "_view_module_version": "1.2.0",
      "_view_name": "LayoutView",
      "align_content": null,
      "align_items": null,
      "align_self": null,
      "border": null,
      "bottom": null,
      "display": null,
      "flex": null,
      "flex_flow": null,
      "grid_area": null,
      "grid_auto_columns": null,
      "grid_auto_flow": null,
      "grid_auto_rows": null,
      "grid_column": null,
      "grid_gap": null,
      "grid_row": null,
      "grid_template_areas": null,
      "grid_template_columns": null,
      "grid_template_rows": null,
      "height": null,
      "justify_content": null,
      "justify_items": null,
      "left": null,
      "margin": null,
      "max_height": null,
      "max_width": null,
      "min_height": null,
      "min_width": null,
      "object_fit": null,
      "object_position": null,
      "order": null,
      "overflow": null,
      "overflow_x": null,
      "overflow_y": null,
      "padding": null,
      "right": null,
      "top": null,
      "visibility": null,
      "width": null
     }
    },
    "e817980f1e7d4a8185f81c1d3e1108da": {
     "model_module": "@jupyter-widgets/controls",
     "model_module_version": "1.5.0",
     "model_name": "DescriptionStyleModel",
     "state": {
      "_model_module": "@jupyter-widgets/controls",
      "_model_module_version": "1.5.0",
      "_model_name": "DescriptionStyleModel",
      "_view_count": null,
      "_view_module": "@jupyter-widgets/base",
      "_view_module_version": "1.2.0",
      "_view_name": "StyleView",
      "description_width": ""
     }
    },
    "e83c1c27c6dc46fcb5db9b0b8cbbf105": {
     "model_module": "@jupyter-widgets/controls",
     "model_module_version": "1.5.0",
     "model_name": "HTMLModel",
     "state": {
      "_dom_classes": [],
      "_model_module": "@jupyter-widgets/controls",
      "_model_module_version": "1.5.0",
      "_model_name": "HTMLModel",
      "_view_count": null,
      "_view_module": "@jupyter-widgets/controls",
      "_view_module_version": "1.5.0",
      "_view_name": "HTMLView",
      "description": "",
      "description_tooltip": null,
      "layout": "IPY_MODEL_de6d20fc8aec437bb68946cf160791f1",
      "placeholder": "​",
      "style": "IPY_MODEL_94740460630b4b19a78a7d7dca826b91",
      "value": "spm.model: 100%"
     }
    },
    "e914c54d484c42d2b5d59642d8bc1510": {
     "model_module": "@jupyter-widgets/base",
     "model_module_version": "1.2.0",
     "model_name": "LayoutModel",
     "state": {
      "_model_module": "@jupyter-widgets/base",
      "_model_module_version": "1.2.0",
      "_model_name": "LayoutModel",
      "_view_count": null,
      "_view_module": "@jupyter-widgets/base",
      "_view_module_version": "1.2.0",
      "_view_name": "LayoutView",
      "align_content": null,
      "align_items": null,
      "align_self": null,
      "border": null,
      "bottom": null,
      "display": null,
      "flex": null,
      "flex_flow": null,
      "grid_area": null,
      "grid_auto_columns": null,
      "grid_auto_flow": null,
      "grid_auto_rows": null,
      "grid_column": null,
      "grid_gap": null,
      "grid_row": null,
      "grid_template_areas": null,
      "grid_template_columns": null,
      "grid_template_rows": null,
      "height": null,
      "justify_content": null,
      "justify_items": null,
      "left": null,
      "margin": null,
      "max_height": null,
      "max_width": null,
      "min_height": null,
      "min_width": null,
      "object_fit": null,
      "object_position": null,
      "order": null,
      "overflow": null,
      "overflow_x": null,
      "overflow_y": null,
      "padding": null,
      "right": null,
      "top": null,
      "visibility": null,
      "width": null
     }
    },
    "ec1edef59aab4ea8a848d77192688ed8": {
     "model_module": "@jupyter-widgets/controls",
     "model_module_version": "1.5.0",
     "model_name": "DescriptionStyleModel",
     "state": {
      "_model_module": "@jupyter-widgets/controls",
      "_model_module_version": "1.5.0",
      "_model_name": "DescriptionStyleModel",
      "_view_count": null,
      "_view_module": "@jupyter-widgets/base",
      "_view_module_version": "1.2.0",
      "_view_name": "StyleView",
      "description_width": ""
     }
    },
    "ec63d8884cd34ea289ae6f955dfb6e76": {
     "model_module": "@jupyter-widgets/controls",
     "model_module_version": "1.5.0",
     "model_name": "FloatProgressModel",
     "state": {
      "_dom_classes": [],
      "_model_module": "@jupyter-widgets/controls",
      "_model_module_version": "1.5.0",
      "_model_name": "FloatProgressModel",
      "_view_count": null,
      "_view_module": "@jupyter-widgets/controls",
      "_view_module_version": "1.5.0",
      "_view_name": "ProgressView",
      "bar_style": "",
      "description": "",
      "description_tooltip": null,
      "layout": "IPY_MODEL_da3a3f157db34005a65780bf2c455d62",
      "max": 1,
      "min": 0,
      "orientation": "horizontal",
      "style": "IPY_MODEL_6d5f847538994393a8766dc04014881c",
      "value": 1
     }
    },
    "f450f52f883346eebdf3971d4dcb8eda": {
     "model_module": "@jupyter-widgets/controls",
     "model_module_version": "1.5.0",
     "model_name": "HTMLModel",
     "state": {
      "_dom_classes": [],
      "_model_module": "@jupyter-widgets/controls",
      "_model_module_version": "1.5.0",
      "_model_name": "HTMLModel",
      "_view_count": null,
      "_view_module": "@jupyter-widgets/controls",
      "_view_module_version": "1.5.0",
      "_view_name": "HTMLView",
      "description": "",
      "description_tooltip": null,
      "layout": "IPY_MODEL_dc9d14055a154cda9d34b00f73d22d52",
      "placeholder": "​",
      "style": "IPY_MODEL_9c6e7d0642a343749b443bdf625288f7",
      "value": " 500/500 [00:00&lt;00:00, 4714.10 examples/s]"
     }
    },
    "f7c4f630df9d4003813ef23d34a9a4f3": {
     "model_module": "@jupyter-widgets/controls",
     "model_module_version": "1.5.0",
     "model_name": "FloatProgressModel",
     "state": {
      "_dom_classes": [],
      "_model_module": "@jupyter-widgets/controls",
      "_model_module_version": "1.5.0",
      "_model_name": "FloatProgressModel",
      "_view_count": null,
      "_view_module": "@jupyter-widgets/controls",
      "_view_module_version": "1.5.0",
      "_view_name": "ProgressView",
      "bar_style": "success",
      "description": "",
      "description_tooltip": null,
      "layout": "IPY_MODEL_1d2601d0a13c46c9b18a08d1fae254a5",
      "max": 7000,
      "min": 0,
      "orientation": "horizontal",
      "style": "IPY_MODEL_c18d6d2071db49e3aeb6d3e889f35640",
      "value": 7000
     }
    },
    "fc84ab8a6271411fa65761a1d592c436": {
     "model_module": "@jupyter-widgets/base",
     "model_module_version": "1.2.0",
     "model_name": "LayoutModel",
     "state": {
      "_model_module": "@jupyter-widgets/base",
      "_model_module_version": "1.2.0",
      "_model_name": "LayoutModel",
      "_view_count": null,
      "_view_module": "@jupyter-widgets/base",
      "_view_module_version": "1.2.0",
      "_view_name": "LayoutView",
      "align_content": null,
      "align_items": null,
      "align_self": null,
      "border": null,
      "bottom": null,
      "display": null,
      "flex": null,
      "flex_flow": null,
      "grid_area": null,
      "grid_auto_columns": null,
      "grid_auto_flow": null,
      "grid_auto_rows": null,
      "grid_column": null,
      "grid_gap": null,
      "grid_row": null,
      "grid_template_areas": null,
      "grid_template_columns": null,
      "grid_template_rows": null,
      "height": null,
      "justify_content": null,
      "justify_items": null,
      "left": null,
      "margin": null,
      "max_height": null,
      "max_width": null,
      "min_height": null,
      "min_width": null,
      "object_fit": null,
      "object_position": null,
      "order": null,
      "overflow": null,
      "overflow_x": null,
      "overflow_y": null,
      "padding": null,
      "right": null,
      "top": null,
      "visibility": null,
      "width": null
     }
    },
    "fea7bcaeed124f4fb05ff758b6357caa": {
     "model_module": "@jupyter-widgets/controls",
     "model_module_version": "1.5.0",
     "model_name": "ProgressStyleModel",
     "state": {
      "_model_module": "@jupyter-widgets/controls",
      "_model_module_version": "1.5.0",
      "_model_name": "ProgressStyleModel",
      "_view_count": null,
      "_view_module": "@jupyter-widgets/base",
      "_view_module_version": "1.2.0",
      "_view_name": "StyleView",
      "bar_color": null,
      "description_width": ""
     }
    },
    "ffb08ff51a094e438cde590f9183f916": {
     "model_module": "@jupyter-widgets/controls",
     "model_module_version": "1.5.0",
     "model_name": "DescriptionStyleModel",
     "state": {
      "_model_module": "@jupyter-widgets/controls",
      "_model_module_version": "1.5.0",
      "_model_name": "DescriptionStyleModel",
      "_view_count": null,
      "_view_module": "@jupyter-widgets/base",
      "_view_module_version": "1.2.0",
      "_view_name": "StyleView",
      "description_width": ""
     }
    }
   }
  }
 },
 "nbformat": 4,
 "nbformat_minor": 1
}
